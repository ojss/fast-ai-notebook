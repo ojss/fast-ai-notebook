{
 "cells": [
  {
   "cell_type": "code",
   "execution_count": 1,
   "metadata": {},
   "outputs": [],
   "source": [
    "%load_ext autoreload\n",
    "%autoreload 2\n",
    "%matplotlib inline"
   ]
  },
  {
   "cell_type": "code",
   "execution_count": 2,
   "metadata": {},
   "outputs": [],
   "source": [
    "from fastai.text import *"
   ]
  },
  {
   "cell_type": "code",
   "execution_count": 3,
   "metadata": {},
   "outputs": [
    {
     "data": {
      "text/plain": [
       "[PosixPath('/storage/imdb_sample/texts.csv'),\n",
       " PosixPath('/storage/imdb_sample/data_save.pkl')]"
      ]
     },
     "execution_count": 3,
     "metadata": {},
     "output_type": "execute_result"
    }
   ],
   "source": [
    "path = untar_data(URLs.IMDB_SAMPLE)\n",
    "path.ls()"
   ]
  },
  {
   "cell_type": "code",
   "execution_count": 4,
   "metadata": {},
   "outputs": [
    {
     "data": {
      "text/html": [
       "<div>\n",
       "<style scoped>\n",
       "    .dataframe tbody tr th:only-of-type {\n",
       "        vertical-align: middle;\n",
       "    }\n",
       "\n",
       "    .dataframe tbody tr th {\n",
       "        vertical-align: top;\n",
       "    }\n",
       "\n",
       "    .dataframe thead th {\n",
       "        text-align: right;\n",
       "    }\n",
       "</style>\n",
       "<table border=\"1\" class=\"dataframe\">\n",
       "  <thead>\n",
       "    <tr style=\"text-align: right;\">\n",
       "      <th></th>\n",
       "      <th>label</th>\n",
       "      <th>text</th>\n",
       "      <th>is_valid</th>\n",
       "    </tr>\n",
       "  </thead>\n",
       "  <tbody>\n",
       "    <tr>\n",
       "      <th>0</th>\n",
       "      <td>negative</td>\n",
       "      <td>Un-bleeping-believable! Meg Ryan doesn't even ...</td>\n",
       "      <td>False</td>\n",
       "    </tr>\n",
       "    <tr>\n",
       "      <th>1</th>\n",
       "      <td>positive</td>\n",
       "      <td>This is a extremely well-made film. The acting...</td>\n",
       "      <td>False</td>\n",
       "    </tr>\n",
       "    <tr>\n",
       "      <th>2</th>\n",
       "      <td>negative</td>\n",
       "      <td>Every once in a long while a movie will come a...</td>\n",
       "      <td>False</td>\n",
       "    </tr>\n",
       "    <tr>\n",
       "      <th>3</th>\n",
       "      <td>positive</td>\n",
       "      <td>Name just says it all. I watched this movie wi...</td>\n",
       "      <td>False</td>\n",
       "    </tr>\n",
       "    <tr>\n",
       "      <th>4</th>\n",
       "      <td>negative</td>\n",
       "      <td>This movie succeeds at being one of the most u...</td>\n",
       "      <td>False</td>\n",
       "    </tr>\n",
       "  </tbody>\n",
       "</table>\n",
       "</div>"
      ],
      "text/plain": [
       "      label                                               text  is_valid\n",
       "0  negative  Un-bleeping-believable! Meg Ryan doesn't even ...     False\n",
       "1  positive  This is a extremely well-made film. The acting...     False\n",
       "2  negative  Every once in a long while a movie will come a...     False\n",
       "3  positive  Name just says it all. I watched this movie wi...     False\n",
       "4  negative  This movie succeeds at being one of the most u...     False"
      ]
     },
     "execution_count": 4,
     "metadata": {},
     "output_type": "execute_result"
    }
   ],
   "source": [
    "df = pd.read_csv(path/\"texts.csv\")\n",
    "df.head()"
   ]
  },
  {
   "cell_type": "code",
   "execution_count": 5,
   "metadata": {},
   "outputs": [
    {
     "data": {
      "text/plain": [
       "label       1000\n",
       "text        1000\n",
       "is_valid    1000\n",
       "dtype: int64"
      ]
     },
     "execution_count": 5,
     "metadata": {},
     "output_type": "execute_result"
    }
   ],
   "source": [
    "df.count()"
   ]
  },
  {
   "cell_type": "code",
   "execution_count": 7,
   "metadata": {},
   "outputs": [
    {
     "data": {
      "text/html": [],
      "text/plain": [
       "<IPython.core.display.HTML object>"
      ]
     },
     "metadata": {},
     "output_type": "display_data"
    },
    {
     "data": {
      "text/html": [],
      "text/plain": [
       "<IPython.core.display.HTML object>"
      ]
     },
     "metadata": {},
     "output_type": "display_data"
    }
   ],
   "source": [
    "data_lm = TextDataBunch.from_csv(path, 'texts.csv')"
   ]
  },
  {
   "cell_type": "code",
   "execution_count": 8,
   "metadata": {},
   "outputs": [
    {
     "data": {
      "text/html": [
       "<table border=\"1\" class=\"dataframe\">\n",
       "  <thead>\n",
       "    <tr style=\"text-align: right;\">\n",
       "      <th>text</th>\n",
       "      <th>target</th>\n",
       "    </tr>\n",
       "  </thead>\n",
       "  <tbody>\n",
       "    <tr>\n",
       "      <td>xxbos xxup the xxup shop xxup around xxup the xxup corner is one of the sweetest and most feel - good romantic comedies ever made . xxmaj there 's just no getting around that , and it 's hard to actually put one 's feeling for this film into words . xxmaj it 's not one of those films that tries too hard , nor does it come up with</td>\n",
       "      <td>positive</td>\n",
       "    </tr>\n",
       "    <tr>\n",
       "      <td>xxbos xxmaj now that xxmaj che(2008 ) has finished its relatively short xxmaj australian cinema run ( extremely limited xxunk screen in xxmaj sydney , after xxunk ) , i can xxunk join both xxunk of \" xxmaj at xxmaj the xxmaj movies \" in taking xxmaj steven xxmaj soderbergh to task . \\n \\n  xxmaj it 's usually satisfying to watch a film director change his style /</td>\n",
       "      <td>negative</td>\n",
       "    </tr>\n",
       "    <tr>\n",
       "      <td>xxbos xxmaj this film sat on my xxmaj tivo for weeks before i watched it . i dreaded a self - indulgent xxunk flick about relationships gone bad . i was wrong ; this was an xxunk xxunk into the screwed - up xxunk of xxmaj new xxmaj yorkers . \\n \\n  xxmaj the format is the same as xxmaj max xxmaj xxunk ' \" xxmaj la xxmaj ronde</td>\n",
       "      <td>positive</td>\n",
       "    </tr>\n",
       "    <tr>\n",
       "      <td>xxbos xxmaj many neglect that this is n't just a classic due to the fact that it 's the first xxup 3d game , or even the first xxunk - up . xxmaj it 's also one of the first xxunk games , one of the xxunk definitely the first ) truly claustrophobic games , and just a pretty well - rounded gaming experience in general . xxmaj with graphics</td>\n",
       "      <td>positive</td>\n",
       "    </tr>\n",
       "    <tr>\n",
       "      <td>xxbos i really wanted to love this show . i truly , honestly did . \\n \\n  xxmaj for the first time , gay viewers get their own version of the \" xxmaj the xxmaj bachelor \" . xxmaj with the help of his obligatory \" hag \" xxmaj xxunk , xxmaj james , a good looking , well - to - do thirty - something has the chance</td>\n",
       "      <td>negative</td>\n",
       "    </tr>\n",
       "  </tbody>\n",
       "</table>"
      ],
      "text/plain": [
       "<IPython.core.display.HTML object>"
      ]
     },
     "metadata": {},
     "output_type": "display_data"
    }
   ],
   "source": [
    "data_lm.show_batch()"
   ]
  },
  {
   "cell_type": "code",
   "execution_count": 13,
   "metadata": {},
   "outputs": [],
   "source": [
    "data_lm.save()"
   ]
  },
  {
   "cell_type": "code",
   "execution_count": 14,
   "metadata": {},
   "outputs": [],
   "source": [
    "data = load_data(path)"
   ]
  },
  {
   "cell_type": "markdown",
   "metadata": {},
   "source": [
    "### Tokenizer"
   ]
  },
  {
   "cell_type": "markdown",
   "metadata": {},
   "source": [
    "The first step of processing we make the texts go through is to split the raw sentences into words, or more exactly tokens. The easiest way to do this would be to split the string on spaces, but we can be smarter:\n",
    "\n",
    "- we need to take care of punctuation\n",
    "- some words are contractions of two different words, like isn't or don't\n",
    "- we may need to clean some parts of our texts, if there's HTML code for instance\n",
    "\n",
    "To see what the tokenizer had done behind the scenes, let's have a look at a few texts in a batch."
   ]
  },
  {
   "cell_type": "code",
   "execution_count": 15,
   "metadata": {},
   "outputs": [
    {
     "data": {
      "text/html": [],
      "text/plain": [
       "<IPython.core.display.HTML object>"
      ]
     },
     "metadata": {},
     "output_type": "display_data"
    },
    {
     "data": {
      "text/html": [],
      "text/plain": [
       "<IPython.core.display.HTML object>"
      ]
     },
     "metadata": {},
     "output_type": "display_data"
    },
    {
     "data": {
      "text/html": [
       "<table border=\"1\" class=\"dataframe\">\n",
       "  <thead>\n",
       "    <tr style=\"text-align: right;\">\n",
       "      <th>text</th>\n",
       "      <th>target</th>\n",
       "    </tr>\n",
       "  </thead>\n",
       "  <tbody>\n",
       "    <tr>\n",
       "      <td>xxbos xxmaj raising xxmaj victor xxmaj vargas : a xxmaj review \\n \\n  xxmaj you know , xxmaj raising xxmaj victor xxmaj vargas is like sticking your hands into a big , steaming bowl of xxunk . xxmaj it 's warm and gooey , but you 're not sure if it feels right . xxmaj try as i might , no matter how warm and gooey xxmaj raising xxmaj</td>\n",
       "      <td>negative</td>\n",
       "    </tr>\n",
       "    <tr>\n",
       "      <td>xxbos xxup the xxup shop xxup around xxup the xxup corner is one of the sweetest and most feel - good romantic comedies ever made . xxmaj there 's just no getting around that , and it 's hard to actually put one 's feeling for this film into words . xxmaj it 's not one of those films that tries too hard , nor does it come up with</td>\n",
       "      <td>positive</td>\n",
       "    </tr>\n",
       "    <tr>\n",
       "      <td>xxbos xxmaj now that xxmaj che(2008 ) has finished its relatively short xxmaj australian cinema run ( extremely limited xxunk screen in xxmaj sydney , after xxunk ) , i can xxunk join both xxunk of \" xxmaj at xxmaj the xxmaj movies \" in taking xxmaj steven xxmaj soderbergh to task . \\n \\n  xxmaj it 's usually satisfying to watch a film director change his style /</td>\n",
       "      <td>negative</td>\n",
       "    </tr>\n",
       "    <tr>\n",
       "      <td>xxbos xxmaj this film sat on my xxmaj tivo for weeks before i watched it . i dreaded a self - indulgent xxunk flick about relationships gone bad . i was wrong ; this was an xxunk xxunk into the screwed - up xxunk of xxmaj new xxmaj yorkers . \\n \\n  xxmaj the format is the same as xxmaj max xxmaj xxunk ' \" xxmaj la xxmaj ronde</td>\n",
       "      <td>positive</td>\n",
       "    </tr>\n",
       "    <tr>\n",
       "      <td>xxbos xxmaj many neglect that this is n't just a classic due to the fact that it 's the first xxup 3d game , or even the first xxunk - up . xxmaj it 's also one of the first xxunk games , one of the xxunk definitely the first ) truly claustrophobic games , and just a pretty well - rounded gaming experience in general . xxmaj with graphics</td>\n",
       "      <td>positive</td>\n",
       "    </tr>\n",
       "  </tbody>\n",
       "</table>"
      ],
      "text/plain": [
       "<IPython.core.display.HTML object>"
      ]
     },
     "metadata": {},
     "output_type": "display_data"
    }
   ],
   "source": [
    "data = TextClasDataBunch.from_csv(path, 'texts.csv')\n",
    "data.show_batch()"
   ]
  },
  {
   "cell_type": "markdown",
   "metadata": {},
   "source": [
    "### Numericalisation"
   ]
  },
  {
   "cell_type": "markdown",
   "metadata": {},
   "source": [
    "Once we have extracted tokens from our texts, we convert to integers by creating a list of all the words used. We only keep the ones that appear at least twice with a maximum vocabulary size of 60,000 (by default) and replace the ones that don't make the cut by the unknown token `UNK`.\n",
    "\n",
    "The correspondance from ids to tokens is stored in the `vocab` attribute of our datasets, in a dictionary called `itos` (for int to string)."
   ]
  },
  {
   "cell_type": "code",
   "execution_count": 19,
   "metadata": {
    "scrolled": true
   },
   "outputs": [
    {
     "data": {
      "text/plain": [
       "['xxunk',\n",
       " 'xxpad',\n",
       " 'xxbos',\n",
       " 'xxeos',\n",
       " 'xxfld',\n",
       " 'xxmaj',\n",
       " 'xxup',\n",
       " 'xxrep',\n",
       " 'xxwrep',\n",
       " 'the']"
      ]
     },
     "execution_count": 19,
     "metadata": {},
     "output_type": "execute_result"
    }
   ],
   "source": [
    "data.vocab.itos[:10]"
   ]
  },
  {
   "cell_type": "code",
   "execution_count": 20,
   "metadata": {},
   "outputs": [
    {
     "data": {
      "text/plain": [
       "<fastai.text.transform.Vocab at 0x7f3e4c1a57f0>"
      ]
     },
     "execution_count": 20,
     "metadata": {},
     "output_type": "execute_result"
    }
   ],
   "source": [
    "v = data.vocab\n",
    "v"
   ]
  },
  {
   "cell_type": "code",
   "execution_count": 21,
   "metadata": {},
   "outputs": [
    {
     "data": {
      "text/plain": [
       "Text xxbos xxmaj this is a xxup cgi animated film based upon a xxmaj french xxup xxunk animated series . xxmaj the series ran briefly on xxmaj cartoon xxmaj network , but its run was so brief that its xxunk as one of the potential xxmaj oscar xxunk for best animated film for this year left most people i know going \" xxmaj huh ? \" xxmaj this is the story of xxmaj lian - xxmaj chu , the kind heart muscle , and xxmaj gwizdo , the brains of the operation , who along with xxmaj hector their fire farting dragon , he 's more like a dog . xxmaj travel the world offering up their xxunk as dragon hunters but never getting paid . xxmaj into their lives comes xxmaj zoe , the fairy tale loving niece of a king who is going blind . xxmaj it seems the world is being xxunk by a huge monster and all of the knights the king has sent out have never returned or if the do return they come back as xxunk . xxmaj in desperation the king hires the dragon hunters to stop the world xxunk . xxmaj zoe of course tags along ... \n",
       " \n",
       "  xxmaj what can i say other then why is this film hiding under a rock ? xxmaj this is a really good little film that is completely off the radar except as unlikely xxmaj oscar contender . xxmaj its a beautifully designed , fantastic looking film ( xxmaj the world it takes place has floating lands and crazy creatures ) that constantly had me going \" xxmaj wow \" at it . xxmaj the xxmaj english xxmaj voice cast with xxmaj xxunk xxmaj xxunk as xxmaj lian - xxmaj chu ( one of the best vocal performances i 've ever heard ) and xxmaj rob xxmaj xxunk as xxmaj gwizdo ( think xxmaj steve xxmaj xxunk ) is first rate . xxmaj equally great is the script which does n't talk down to its audience , using some real expressions not normally heard in animated films ( not xxmaj disney nor xxmaj pixar ) . xxmaj its all really well done . \n",
       " \n",
       "  xxmaj is it perfect ? xxmaj no , some of the bits go on too long , but at the same time its is damn entertaining . \n",
       " \n",
       "  xxmaj if you get the chance see this . xxmaj its one of the better animated films from 2008 , and is going on my nice surprise list for 2009 ."
      ]
     },
     "execution_count": 21,
     "metadata": {},
     "output_type": "execute_result"
    }
   ],
   "source": [
    "data.train_ds[0][0]"
   ]
  },
  {
   "cell_type": "code",
   "execution_count": 25,
   "metadata": {},
   "outputs": [
    {
     "data": {
      "text/plain": [
       "array([   2,    5,   21,   16,   13,    6,  841, 1104,   32,  490])"
      ]
     },
     "execution_count": 25,
     "metadata": {},
     "output_type": "execute_result"
    }
   ],
   "source": [
    "arr = data.train_ds[0][0].data[:10]\n",
    "arr"
   ]
  },
  {
   "cell_type": "code",
   "execution_count": 26,
   "metadata": {},
   "outputs": [
    {
     "data": {
      "text/plain": [
       "'xxbos xxmaj this is a xxup cgi animated film based'"
      ]
     },
     "execution_count": 26,
     "metadata": {},
     "output_type": "execute_result"
    }
   ],
   "source": [
    "v.textify(arr)"
   ]
  },
  {
   "cell_type": "markdown",
   "metadata": {},
   "source": [
    "## Language Model"
   ]
  },
  {
   "cell_type": "code",
   "execution_count": 32,
   "metadata": {},
   "outputs": [],
   "source": [
    "bs = 48"
   ]
  },
  {
   "cell_type": "code",
   "execution_count": 33,
   "metadata": {},
   "outputs": [
    {
     "data": {
      "text/plain": [
       "[PosixPath('/storage/imdb/tmp_clas'),\n",
       " PosixPath('/storage/imdb/test'),\n",
       " PosixPath('/storage/imdb/data_lm.pkl'),\n",
       " PosixPath('/storage/imdb/models'),\n",
       " PosixPath('/storage/imdb/imdb.vocab'),\n",
       " PosixPath('/storage/imdb/data_clas.pkl'),\n",
       " PosixPath('/storage/imdb/train'),\n",
       " PosixPath('/storage/imdb/README'),\n",
       " PosixPath('/storage/imdb/unsup'),\n",
       " PosixPath('/storage/imdb/tmp_lm')]"
      ]
     },
     "execution_count": 33,
     "metadata": {},
     "output_type": "execute_result"
    }
   ],
   "source": [
    "path = untar_data(URLs.IMDB)\n",
    "path.ls()"
   ]
  },
  {
   "cell_type": "code",
   "execution_count": 34,
   "metadata": {},
   "outputs": [
    {
     "data": {
      "text/plain": [
       "[PosixPath('/storage/imdb/train/pos'),\n",
       " PosixPath('/storage/imdb/train/labeledBow.feat'),\n",
       " PosixPath('/storage/imdb/train/neg'),\n",
       " PosixPath('/storage/imdb/train/unsupBow.feat')]"
      ]
     },
     "execution_count": 34,
     "metadata": {},
     "output_type": "execute_result"
    }
   ],
   "source": [
    "(path/'train').ls()"
   ]
  },
  {
   "cell_type": "code",
   "execution_count": null,
   "metadata": {},
   "outputs": [],
   "source": [
    "data_lm = (TextList.from_folder(path)\n",
    "           #Inputs: all the text files in path\n",
    "            .filter_by_folder(include=['train', 'test', 'unsup']) \n",
    "           #We may have other temp folders that contain text files so we only keep what's in train and test\n",
    "            .split_by_rand_pct(0.1)\n",
    "           #We randomly split and keep 10% (10,000 reviews) for validation\n",
    "            .label_for_lm()           \n",
    "           #We want to do a language model so we label accordingly\n",
    "            .databunch(bs=bs))\n",
    "data_lm.save('data_lm.pkl')"
   ]
  },
  {
   "cell_type": "code",
   "execution_count": 35,
   "metadata": {},
   "outputs": [],
   "source": [
    "data_lm = load_data(path, 'data_lm.pkl', bs=bs)"
   ]
  },
  {
   "cell_type": "code",
   "execution_count": 36,
   "metadata": {},
   "outputs": [
    {
     "data": {
      "text/html": [
       "<table border=\"1\" class=\"dataframe\">\n",
       "  <thead>\n",
       "    <tr style=\"text-align: right;\">\n",
       "      <th>idx</th>\n",
       "      <th>text</th>\n",
       "    </tr>\n",
       "  </thead>\n",
       "  <tbody>\n",
       "    <tr>\n",
       "      <td>0</td>\n",
       "      <td>male characters and what a bunch they are . xxmaj they use women like toys and throw them away , leaving the women to suffer . xxmaj ironically , the women in \" xxmaj the xxmaj women \" , perhaps because they are all we see , are shown in a less than favorable light , alternately silly and scheming , with the only \" nice \" one , (</td>\n",
       "    </tr>\n",
       "    <tr>\n",
       "      <td>1</td>\n",
       "      <td>'re thinking of that speech he made at the podium , are n't you ? ! ) \\n \\n  xxmaj but it 's xxmaj blythe xxmaj danner , xxmaj john xxmaj cassavetes and xxmaj peter xxmaj falk who steal the show here . xxmaj blythe is absolutely divine as xxmaj mrs xxmaj benedict . xxmaj from the moment she spots xxmaj alex dialling xxmaj jennifer xxmaj wells ' number</td>\n",
       "    </tr>\n",
       "    <tr>\n",
       "      <td>2</td>\n",
       "      <td>xxmaj the main actor here ( who is as i 've been told very popular in his homeland xxmaj france ) , is perfect in his role here . xxmaj he 's the spy with the number 117 attached to him . xxmaj there is one character who sums him up in the movie , by asking a question , about if he 's good or not ... you 'll</td>\n",
       "    </tr>\n",
       "    <tr>\n",
       "      <td>3</td>\n",
       "      <td>, she steals a buggy and drives it back to town . xxmaj johnny recovers , pursues her and murders her about the same time that xxmaj glen , xxmaj riccardo , xxmaj juanita , and xxmaj pinkerton meet him on the trail . xxmaj they inform xxmaj johnny about the complications created by xxmaj machete 's reign of terror and give him $ xxunk as his cut of the</td>\n",
       "    </tr>\n",
       "    <tr>\n",
       "      <td>4</td>\n",
       "      <td>attention of two evil foreign siblings who need to smuggle money &amp; diamonds around the world , but need a way to do it that wo n't draw the attention of their arch enemy , xxmaj jamal . xxmaj the 2 evil siblings , xxmaj claudia &amp; xxmaj klaus , overhear the banter between xxmaj alvin &amp; xxmaj brittany and decide to use them as the delivery boys &amp; girls</td>\n",
       "    </tr>\n",
       "  </tbody>\n",
       "</table>"
      ],
      "text/plain": [
       "<IPython.core.display.HTML object>"
      ]
     },
     "metadata": {},
     "output_type": "display_data"
    }
   ],
   "source": [
    "data_lm.show_batch()"
   ]
  },
  {
   "cell_type": "code",
   "execution_count": 38,
   "metadata": {},
   "outputs": [],
   "source": [
    "learn = language_model_learner(data_lm, AWD_LSTM, drop_mult=0.3)"
   ]
  },
  {
   "cell_type": "code",
   "execution_count": 39,
   "metadata": {},
   "outputs": [
    {
     "data": {
      "text/html": [
       "\n",
       "    <div>\n",
       "        <style>\n",
       "            /* Turns off some styling */\n",
       "            progress {\n",
       "                /* gets rid of default border in Firefox and Opera. */\n",
       "                border: none;\n",
       "                /* Needs to be in here for Safari polyfill so background images work as expected. */\n",
       "                background-size: auto;\n",
       "            }\n",
       "            .progress-bar-interrupted, .progress-bar-interrupted::-webkit-progress-bar {\n",
       "                background: #F44336;\n",
       "            }\n",
       "        </style>\n",
       "      <progress value='0' class='' max='1', style='width:300px; height:20px; vertical-align: middle;'></progress>\n",
       "      0.00% [0/1 00:00<00:00]\n",
       "    </div>\n",
       "    \n",
       "<table border=\"1\" class=\"dataframe\">\n",
       "  <thead>\n",
       "    <tr style=\"text-align: left;\">\n",
       "      <th>epoch</th>\n",
       "      <th>train_loss</th>\n",
       "      <th>valid_loss</th>\n",
       "      <th>accuracy</th>\n",
       "      <th>time</th>\n",
       "    </tr>\n",
       "  </thead>\n",
       "  <tbody>\n",
       "  </tbody>\n",
       "</table><p>\n",
       "\n",
       "    <div>\n",
       "        <style>\n",
       "            /* Turns off some styling */\n",
       "            progress {\n",
       "                /* gets rid of default border in Firefox and Opera. */\n",
       "                border: none;\n",
       "                /* Needs to be in here for Safari polyfill so background images work as expected. */\n",
       "                background-size: auto;\n",
       "            }\n",
       "            .progress-bar-interrupted, .progress-bar-interrupted::-webkit-progress-bar {\n",
       "                background: #F44336;\n",
       "            }\n",
       "        </style>\n",
       "      <progress value='99' class='' max='8044', style='width:300px; height:20px; vertical-align: middle;'></progress>\n",
       "      1.23% [99/8044 00:25<33:49 11.9782]\n",
       "    </div>\n",
       "    "
      ],
      "text/plain": [
       "<IPython.core.display.HTML object>"
      ]
     },
     "metadata": {},
     "output_type": "display_data"
    },
    {
     "name": "stdout",
     "output_type": "stream",
     "text": [
      "LR Finder is complete, type {learner_name}.recorder.plot() to see the graph.\n"
     ]
    }
   ],
   "source": [
    "learn.lr_find()"
   ]
  },
  {
   "cell_type": "code",
   "execution_count": 41,
   "metadata": {},
   "outputs": [
    {
     "data": {
      "image/png": "[encoded data removed]",
      "text/plain": [
       "<Figure size 432x288 with 1 Axes>"
      ]
     },
     "metadata": {
      "needs_background": "light"
     },
     "output_type": "display_data"
    }
   ],
   "source": [
    "learn.recorder.plot(skip_end=15)"
   ]
  },
  {
   "cell_type": "code",
   "execution_count": null,
   "metadata": {},
   "outputs": [],
   "source": [
    "learn.fit_one_cycle(1, 1e-2, moms=(0.8,0.7))"
   ]
  },
  {
   "cell_type": "code",
   "execution_count": null,
   "metadata": {},
   "outputs": [],
   "source": [
    "learn.save('fit_head')"
   ]
  },
  {
   "cell_type": "code",
   "execution_count": 42,
   "metadata": {},
   "outputs": [
    {
     "data": {
      "text/plain": [
       "LanguageLearner(data=TextLMDataBunch;\n",
       "\n",
       "Train: LabelList (90000 items)\n",
       "x: LMTextList\n",
       "xxbos xxmaj claire xxmaj booth xxmaj luce 's \" xxmaj the xxmaj women \" shows relationships with men through a woman 's point of view in a play , ( and 1939 film that also has xxmaj joan xxmaj crawford playing a bitch : a character who might have been xxmaj amanda xxmaj farrow 20 years before ) , that has no male characters . xxmaj here we see the male characters and what a bunch they are . xxmaj they use women like toys and throw them away , leaving the women to suffer . xxmaj ironically , the women in \" xxmaj the xxmaj women \" , perhaps because they are all we see , are shown in a less than favorable light , alternately silly and scheming , with the only \" nice \" one , ( xxmaj norma xxmaj shearer ) , growing \" claws \" by the end . xxmaj in \" xxmaj the xxmaj best of xxmaj everything \" we see the men for the cads they are while the women are largely innocent and vulnerable . \n",
       " \n",
       "  xxmaj this is a film about women leaping from things . xxmaj diane xxmaj baker leaps from a car , ( in perhaps the most absurd scene in cinema history , which is not in the book ) . xxmaj suzy xxmaj parker falls from a fire escape . xxmaj the women in the film are leaping into the workplace , looking for success and love at the same time . xxmaj women would leap into the future and leave this type of soap opera behind in the next decade . xxmaj but they would come back to it in the 80 's and 90 's through the novels of people like xxmaj sidney xxmaj sheldon and xxmaj judith xxmaj krantz , ( although their trashier works are n't as good as this ) . \n",
       " \n",
       "  xxmaj the best thing about this film is the way it looks . i love the glossy cinemascope films of the 50 's and 60 's . xxmaj they look so much better than the pixel - challenged home movies we 've been making since , especially in the letterboxed version we see on xxup tv , and the xxup dvd , with the picture so clear you could walk into it . xxmaj the look of the bevy of young beauties in it is also memorable . xxmaj this film probably has more beautiful women in it than any other . xxmaj it has a supermodel , ( xxmaj suzy xxmaj parker ) , a beauty queen , ( xxmaj myrna xxmaj hansen , who was not xxmaj miss xxmaj america 1954 as xxmaj rona xxmaj jaffe says in the xxup dvd commentary but rather xxmaj miss xxup usa 1953 , per the imdb : but so what ) , and a xxmaj playboy playmate , ( xxmaj june xxmaj blair , from xxmaj january 1957 ) . xxmaj my vote goes to xxmaj suzy , one of the astonishing beauties of all time . xxmaj her acting here is n't as awful as people pretend : they are just reacting , as people did then , to the sight of a supermodel , ( the first , really ) , trying to act . xxmaj nobody seemed to care how well she did . xxmaj her role , that of an apparently worldly woman who turns out to be the most vulnerable , is the most complex in the bunch and she does just fine . \n",
       " \n",
       "  xxmaj the most touching thing about the film now is the age of the female leads at the time . xxmaj hope xxmaj lange was 27 when they filmed this in the spring of 1959 . xxmaj diane xxmaj baker was 20 . xxmaj suzy xxmaj parker was 26 . xxmaj hope , who looked to be xxmaj grace xxmaj kelly 's heir , never made it really big and wound up being xxmaj mrs. xxmaj muir on television and , per the imdb , wound up living in a home with \" crates for coffee tables \" because she spent her money on causes she believed in before dying at age 72 in 2003 . xxmaj this film must have seemed a very distant and irrelevant memory to her by then . xxmaj baker , always a welcome face in 60 's xxup tv , ( especially to xxmaj richard xxmaj kimble ) , and still active as an actress and acting coach , just turned 67 . xxmaj parker found \" the best of everything \" with xxmaj bradford xxmaj dillman for 40 years before dying at age 70 the same year xxmaj lange did . xxmaj but here they are , young , beautiful and ambitious for success and love , just like their characters .,xxbos 2001 : a xxmaj space xxmaj odyssey \n",
       " \n",
       "  xxmaj is it a sermon ? xxmaj an account of the history of mankind ? xxmaj an exploration of man 's futile attempts to advance technology only to have technology destroy him ? xxmaj is it about the fragile balance of time and space ? a lesson in evolution ? xxmaj or is it just a spectacular effects show ; a film xxmaj kubrick made only to show us the limitless possibilities of the motion picture and present to us the truth that images are exceedingly more powerful than words ? \n",
       " \n",
       "  2001 : a xxmaj space xxmaj odyssey is all of these things . xxmaj one of the most xxunk films ever created , it 's almost more fun to dissect and discuss the ambiguous plot design and events of the film , than it is to actually watch . xxmaj but it 's left open to discussion intentionally ; if xxmaj kubrick had explained the meaning to his wondrous 1968 classic ( ranked # 22 on xxup afi 's list of the greatest 100 films ever made , my personal 21st favorite xxunk , and nominated for 4 xxmaj academy xxmaj awards : xxmaj director , xxmaj original xxmaj screenplay , xxmaj art xxmaj direction , and xxmaj visual xxmaj effects which it won for ) it would have lost half its fascination , all of its complexity , and a good portion of its cinematic worth . xxmaj we would only be left with the technical ingenuity ; which in itself is worth praising . \n",
       " \n",
       "  xxmaj because every shot is worth taking the time to look . xxmaj and there is plenty of time . 2001 is very elegiac , and also coolly distant ; detached . xxmaj the emotional remoteness and slow pace pay perfect tribute however to the unique visual experience ; 2001 begins with mankind 's ape ancestors , who upgrade from scavengers of the planet to hunters and xxunk after discovering a giant monolith in the midst of their desert home , then ( in one of motion picture history 's most inspired jump - cut edits ) as a bone is tossed into the air and becomes a satellite , jumping forward a couple thousand years into space , where astronauts have discovered a similar object on the moon , and next the film following a crew of space traveler 's mission as they follow the monolith 's signal through space , accompanied by their untrustworthy computer xxup hal , who attempts to sabotage the shuttle and kill the crew , before finally the lone survivor is launched through space and time ( in a flurry of drug - induced colors that probably gave hippies an epileptic shock back in the day ) to grow old , die , and be reborn a \" xxmaj star - child \" . xxmaj whew . \n",
       " \n",
       "  xxmaj this pacing and emotional blankness , is also in sharp contrast with the film 's most ironic scene ; the destruction of xxup hal . xxmaj as the crew 's final explorer shuts the machine down , bathed in the holy aura of red light xxmaj kubrick has always used as a repeat motif , xxup hal singing a lovely tune , it is a strangely emotional experience . xxmaj and it 's all genius . \n",
       " \n",
       "  xxmaj other notable aspects of xxmaj kubrick 's masterpiece is the memorable voice of xxup hal ( a calm , somehow sinister , xxmaj douglas xxmaj rain ) , the minimal use of dialogue ( xxmaj kubrick was wisely trusting of his images to propel the film ; giving only banal , unhelpful lines to his actors . xxmaj the most famous being \" xxmaj open the pod bay doors xxup hal \" ) , satellites dancing around in orbit to unorthodox music , and that first , awe - inspiring shot of earth ; slowly revealing the glare of the sun in front of it , played to the sound of blasting , triumphant horns . \n",
       " \n",
       "  2001 shall always remain a mystery , and will forever be a testament to the cinema 's strongest point : visuals are more powerful than writing . xxmaj it 's all from one of film history 's most legendary and best directors , whose unique vision , was always his own . 10 / 10 \n",
       " \n",
       "  \" xxmaj open the pod bay doors xxup xxunk : a xxmaj space xxmaj odyssey,xxbos xxmaj working in a music store , my xxunk first tipped me this soundtrack . xxmaj the music of this movie is perfect . xxmaj one of my favorite xxup cd 's . xxmaj only years later i saw the movie , i was afraid it would not fulfill my high expectations , luckily it did . a feel good romantic love story .,xxbos i found this movie to be quite enjoyable and fairly entertaining . xxmaj good characters , good actors and enough suspense to keep your interest throughout . xxmaj the plot twists might have been a bit much but overall a decent thriller . xxmaj if you liked this film i would recommend xxmaj the xxmaj spanish xxmaj prisoner , xxmaj the xxmaj house of xxmaj games and xxmaj no xxmaj way xxmaj out .,xxbos xxmaj the basic plot of this film has already been detailed in several other comments so i wo n't bother . i 'd like to first commend the producer , cast , directors and crew for creating a wonderfully engaging film on a meager , $ 1 m budget , a small fraction of standard xxmaj hollywood fare that does n't xxup look cheap . xxmaj these people have a drive to make something new and entertaining while not spending a fortune doing it . xxmaj this is essentially art for art 's sake . i know , i know , some of you will decide that this is not art but something less and that 's fine . i for one am glad that people like these will continue to put forth the time and effort for our benefit without expecting huge multimillion dollar payoffs . \n",
       " \n",
       "  xxmaj now to the criticism . i feel that the scenario presented is credible to a point . xxmaj it 's wonderful when everything works out and the hero / heroine saves the day and all 's well that ends well . xxmaj what gets me is the blatant manipulation of events so that blind luck is responsible more than courage and strength . \n",
       " \n",
       "  xxmaj when lee was attacked but not severely injured , somehow she washed up on a mud bank right next to the dead guide . xxmaj then , miraculously , his loaded revolver is still in his holster and it actually works ( after some cleaning and fiddling ) . xxmaj finally , when xxmaj lee is attacked on the mud bank and jumps in the water , once again the croc fails to kill her . xxmaj she ends up with her hand in his ( her ? ) mouth and manages to repeatedly pull the trigger , ultimately to blow the croc 's brains out ( literally ) . \n",
       " \n",
       "  i came to the conclusion that having xxmaj lee go hand to mouth with the croc was just a way to end the film with the human in triumph . xxmaj based upon what i have seen , the croc 's attack and continue to hold on until the prey stops struggling . xxmaj croc 's will spin around and around to dismember and drown the prey . xxmaj that happened to the first 3 victims but not to xxmaj lee . xxmaj she had teeth marks but they were not deep . \n",
       " \n",
       "  i think that the ending would have been better had the croc won , frankly , thereby proving his dominance of the mangrove , his territory for millions of years . xxmaj but then , how many of us would have been upset or disappointed that the pretty girl did n't get out alive ?\n",
       "y: LMLabelList\n",
       ",,,,\n",
       "Path: /storage/imdb;\n",
       "\n",
       "Valid: LabelList (10000 items)\n",
       "x: LMTextList\n",
       "xxbos xxmaj this is a very silly film . xxmaj all the female characters never walk or run or stand , they mince , xxunk and languish . xxmaj the lesbian vampires of the title are easily the most ineffectual vampires ever to grace the silver screen . xxmaj this whole movie is just too xxmaj european for me . xxmaj and , while the lesbian vampires might have a taste for blood , there sure is very little of it in this film . xxmaj all the above said , i did enjoy this film , because it is so easy to laugh about . xxmaj about the only thing thing this so called erotic horror film is good for is a laugh .,xxbos xxmaj alien xxmaj thunder ( whoever came up with that title should have been pistol whipped ) is just plain dull ! \n",
       " \n",
       "  xxmaj donald xxmaj sutherland ( in a wooden , unlikable performance ) plays xxmaj dan xxmaj candy , a member of xxmaj the xxmaj royal xxmaj canadian xxmaj mounted xxmaj police who arrests an xxmaj indian for slaughtering a government alloted cow without prior approval . xxmaj the xxmaj indian escapes and kills his partner . \n",
       " \n",
       "  xxmaj most of this excruciating movie consists of xxmaj sutherland walking into the woods , coming back empty - handed , and arguing with his superior officer . \n",
       " \n",
       "  xxmaj there 's no suspense and what little action there is ( before the climax ) consists mostly of pot shots taken by and against xxmaj indians on his various trips to the reservation . \n",
       " \n",
       "  xxmaj considering the talent involved , ( xxmaj sutherland , xxmaj kevin mccarthy , xxmaj chief xxmaj dan xxmaj george ) this should have been good . i suggest you watch xxmaj xxunk instead .,xxbos a group of human looking aliens going to xxmaj earth to eat crash land on a planet of prehistoric beasts instead where they all eat xxunk mushrooms and act retarded . xxmaj padded with footage from \" xxmaj planet of the xxmaj xxunk \" and horrible jokes this is definitely one to miss . xxmaj the acting is atrocious as well , and while this is n't as bad as \" xxmaj xxunk \" ( what movie can be ? ) xxmaj this is still pretty awful repugnant stuff . xxmaj it 's 90 minute running time feels like an eternity and you will likely be cursing life so do yourself a huge favor and just move on , skip this crappy film , there 's nothing to see here . \n",
       " \n",
       "  xxmaj the film - makers try to resell this turd as a xxup mst3 k style making fun of the movie they made a decade before , and it works to an extent it 's still nothing that watchable though , xxmaj ariauna xxmaj albright is hot , but xxmaj lilith xxmaj stabs has a pretty unattractive speaking voice . \n",
       " \n",
       "  xxmaj my xxmaj grade : xxup d- \n",
       " \n",
       "  xxup dvd xxmaj extras : xxmaj joke commentary , 17 xxmaj behind the scenes featurette ; 7 minute xxmaj into the black featurette ; xxmaj jessica xxmaj mills reporting ; xxmaj stills gallery ; and original trailer,xxbos xxmaj sometimes you have to take things to a point to make a point . xxmaj michael xxmaj moore has many times been accused of lying or being naive and not showing the whole picture but the truth is that if you are documenting the type of phenomenons that he is you have to take things to the very edge to be able to show your point of view . xxmaj even further , you ca n't tangle yourself in semantics and rhetorical endless discussion if you want the regular ordinary man on the street to get interested . xxmaj this is xxmaj moores dilemma . xxmaj he 's trying to make very complex matters simple and it 's not an easy task . \n",
       " \n",
       "  xxmaj now , i 'm the first to agree on that he 's not always accurate and sometimes not even right , but he finishes his mission which is ; xxmaj to make people think ! xxmaj and this is far more important sometimes than being 100 % true . \n",
       " \n",
       "  xxmaj he even got xxmaj mr xxmaj wilson to make a movie about him . xxmaj and that 's why we are here . \n",
       " \n",
       "  xxmaj wilson is trying to use xxmaj moores own rhetoric back on him . xxmaj he is even got a attorney / author ( sic ! ) to claim that xxmaj moore has some personality disorder . xxmaj he uses the same techniques as him and gets the man on the street to air his opinions and as a coincidence , they are the same as xxmaj wilson 's . xxmaj to boil it all down , he is trying to make a xxmaj fahrenheit 9 / 11 about xxmaj fahrenheit 9 / 11 . \n",
       " \n",
       "  xxmaj now , of course you should challenge xxmaj moore 's ideas . xxmaj of course you should make up your own mind and try to find the facts yourself . xxmaj that 's the whole point of democracy . xxmaj but where xxmaj moore is brilliant with expressing his points and political viewpoint , xxmaj wilson is far too blunt . xxmaj it even gets to the point where you get the feeling that xxmaj wilson is not even challenging xxmaj moore but is in it for his own personal witch hunt out of some personal dislike . xxmaj which is exactly what he 's accusing xxmaj moore for doing to xxmaj mr xxup c. xxmaj heston and xxup xxunk xxmaj bush . xxmaj and this , of course , is not good since as a fact he then becomes xxmaj moore . \n",
       " \n",
       "  xxmaj at a point i could almost see him crying off camera because xxmaj moore does n't return his calls . xxmaj and , come on xxmaj wilson , why did you try to make a point about if he cursed or not ? a big difference between xxmaj moore and xxmaj wilson is also this ; xxmaj where xxmaj moore gets people to speak their mind , xxmaj wilson will get to use the interviews as long as \" they do n't look bad \" . xxmaj do n't look bad ? xxmaj that 's the whole point of investigating journalism , if it looks bad it probably is and you should bring it out in the open . xxmaj not the corporate approved statements and views . \n",
       " \n",
       "  xxmaj further more , the sections with xxmaj penn ( yes , xxmaj penn from xxunk ) screams \" xxmaj you should only show what is government approved \" . i ca n't help to recall what the late xxmaj bill xxmaj hicks said : \" xxmaj you are free to do what we tell you ! xxmaj here 's 16 channels of xxmaj american xxmaj gladiators to choose from \" . \n",
       " \n",
       "  xxmaj now , it might be that we in xxmaj europe are more used to harsh journalists that dissect everything , but i get a feeling that xxmaj wilson does not fully understand how and why you do an investigating documentary . xxmaj if peoples toes are going to be stepped on ? xxmaj sure . xxmaj if people are going to get mad because things are shown that was n't supposed to be ? xxmaj of course . xxmaj if this is wrong ? xxmaj not a bit . \n",
       " \n",
       "  a cause , belief or movement that ca n't stand to be investigated or made fun of , is not meant to survive . xxmaj it 's as simple as that . \n",
       " \n",
       "  i could go on and on and point out the errors i think xxmaj wilson is doing this film . xxmaj the truth is that xxmaj wilson should have practiced a bit more first before taking on a challenge as this . xxmaj he is accusing xxmaj moore of editing his movies and then he does the same thing himself . xxmaj he makes a point of xxmaj moore using comments and interviews out of context and then , yes you guessed right , he does it himself . xxmaj he twists and turns from challenging xxmaj moores movies to challenging xxmaj moore himself . xxmaj it all turns into a amateurish soup where you have no real thread to follow . i even felt , after the shop door incident , that he was trying to do a \" xxmaj cops \" episode . \n",
       " \n",
       "  xxmaj no , xxmaj wilson , this is not good . xxmaj you should have practiced by making some xxmaj youtube movies first to get warm in the clothes before going for the trophy ; xxmaj michael xxmaj moore .,xxbos xxmaj this is one of my favourite films of all time . xxmaj it has such a feel good factor that i get it out and watch it at least three times a year and have done since i was kid , surfing with my friends in xxmaj cornwall in the early eighties . xxmaj following the lives of three friends from 1962 to the \" great swell \" of 1974 , this is a beautifully shot movie with warm characters that you grow to really care about . xxmaj from the opening credits with , believe it or not , the wonderfully mellow voice - over provided by xxmaj robert xxmaj england , to the final mega surfing scene the story pulls you in with it 's glorious scenery , great acting and superbly shot surfing scenes . xxmaj based around xxmaj milius 's own experiences this is a classic and in my opinion , the best surfing film ever made .\n",
       "y: LMLabelList\n",
       ",,,,\n",
       "Path: /storage/imdb;\n",
       "\n",
       "Test: None, model=SequentialRNN(\n",
       "  (0): AWD_LSTM(\n",
       "    (encoder): Embedding(60000, 400, padding_idx=1)\n",
       "    (encoder_dp): EmbeddingDropout(\n",
       "      (emb): Embedding(60000, 400, padding_idx=1)\n",
       "    )\n",
       "    (rnns): ModuleList(\n",
       "      (0): WeightDropout(\n",
       "        (module): LSTM(400, 1152, batch_first=True)\n",
       "      )\n",
       "      (1): WeightDropout(\n",
       "        (module): LSTM(1152, 1152, batch_first=True)\n",
       "      )\n",
       "      (2): WeightDropout(\n",
       "        (module): LSTM(1152, 400, batch_first=True)\n",
       "      )\n",
       "    )\n",
       "    (input_dp): RNNDropout()\n",
       "    (hidden_dps): ModuleList(\n",
       "      (0): RNNDropout()\n",
       "      (1): RNNDropout()\n",
       "      (2): RNNDropout()\n",
       "    )\n",
       "  )\n",
       "  (1): LinearDecoder(\n",
       "    (decoder): Linear(in_features=400, out_features=60000, bias=True)\n",
       "    (output_dp): RNNDropout()\n",
       "  )\n",
       "), opt_func=functools.partial(<class 'torch.optim.adam.Adam'>, betas=(0.9, 0.99)), loss_func=FlattenedLoss of CrossEntropyLoss(), metrics=[<function accuracy at 0x7f3e62b39400>], true_wd=True, bn_wd=True, wd=0.01, train_bn=True, path=PosixPath('/storage/imdb'), model_dir='models', callback_fns=[functools.partial(<class 'fastai.basic_train.Recorder'>, add_time=True, silent=False)], callbacks=[RNNTrainer\n",
       "learn: LanguageLearner(data=TextLMDataBunch;\n",
       "\n",
       "Train: LabelList (90000 items)\n",
       "x: LMTextList\n",
       "xxbos xxmaj claire xxmaj booth xxmaj luce 's \" xxmaj the xxmaj women \" shows relationships with men through a woman 's point of view in a play , ( and 1939 film that also has xxmaj joan xxmaj crawford playing a bitch : a character who might have been xxmaj amanda xxmaj farrow 20 years before ) , that has no male characters . xxmaj here we see the male characters and what a bunch they are . xxmaj they use women like toys and throw them away , leaving the women to suffer . xxmaj ironically , the women in \" xxmaj the xxmaj women \" , perhaps because they are all we see , are shown in a less than favorable light , alternately silly and scheming , with the only \" nice \" one , ( xxmaj norma xxmaj shearer ) , growing \" claws \" by the end . xxmaj in \" xxmaj the xxmaj best of xxmaj everything \" we see the men for the cads they are while the women are largely innocent and vulnerable . \n",
       " \n",
       "  xxmaj this is a film about women leaping from things . xxmaj diane xxmaj baker leaps from a car , ( in perhaps the most absurd scene in cinema history , which is not in the book ) . xxmaj suzy xxmaj parker falls from a fire escape . xxmaj the women in the film are leaping into the workplace , looking for success and love at the same time . xxmaj women would leap into the future and leave this type of soap opera behind in the next decade . xxmaj but they would come back to it in the 80 's and 90 's through the novels of people like xxmaj sidney xxmaj sheldon and xxmaj judith xxmaj krantz , ( although their trashier works are n't as good as this ) . \n",
       " \n",
       "  xxmaj the best thing about this film is the way it looks . i love the glossy cinemascope films of the 50 's and 60 's . xxmaj they look so much better than the pixel - challenged home movies we 've been making since , especially in the letterboxed version we see on xxup tv , and the xxup dvd , with the picture so clear you could walk into it . xxmaj the look of the bevy of young beauties in it is also memorable . xxmaj this film probably has more beautiful women in it than any other . xxmaj it has a supermodel , ( xxmaj suzy xxmaj parker ) , a beauty queen , ( xxmaj myrna xxmaj hansen , who was not xxmaj miss xxmaj america 1954 as xxmaj rona xxmaj jaffe says in the xxup dvd commentary but rather xxmaj miss xxup usa 1953 , per the imdb : but so what ) , and a xxmaj playboy playmate , ( xxmaj june xxmaj blair , from xxmaj january 1957 ) . xxmaj my vote goes to xxmaj suzy , one of the astonishing beauties of all time . xxmaj her acting here is n't as awful as people pretend : they are just reacting , as people did then , to the sight of a supermodel , ( the first , really ) , trying to act . xxmaj nobody seemed to care how well she did . xxmaj her role , that of an apparently worldly woman who turns out to be the most vulnerable , is the most complex in the bunch and she does just fine . \n",
       " \n",
       "  xxmaj the most touching thing about the film now is the age of the female leads at the time . xxmaj hope xxmaj lange was 27 when they filmed this in the spring of 1959 . xxmaj diane xxmaj baker was 20 . xxmaj suzy xxmaj parker was 26 . xxmaj hope , who looked to be xxmaj grace xxmaj kelly 's heir , never made it really big and wound up being xxmaj mrs. xxmaj muir on television and , per the imdb , wound up living in a home with \" crates for coffee tables \" because she spent her money on causes she believed in before dying at age 72 in 2003 . xxmaj this film must have seemed a very distant and irrelevant memory to her by then . xxmaj baker , always a welcome face in 60 's xxup tv , ( especially to xxmaj richard xxmaj kimble ) , and still active as an actress and acting coach , just turned 67 . xxmaj parker found \" the best of everything \" with xxmaj bradford xxmaj dillman for 40 years before dying at age 70 the same year xxmaj lange did . xxmaj but here they are , young , beautiful and ambitious for success and love , just like their characters .,xxbos 2001 : a xxmaj space xxmaj odyssey \n",
       " \n",
       "  xxmaj is it a sermon ? xxmaj an account of the history of mankind ? xxmaj an exploration of man 's futile attempts to advance technology only to have technology destroy him ? xxmaj is it about the fragile balance of time and space ? a lesson in evolution ? xxmaj or is it just a spectacular effects show ; a film xxmaj kubrick made only to show us the limitless possibilities of the motion picture and present to us the truth that images are exceedingly more powerful than words ? \n",
       " \n",
       "  2001 : a xxmaj space xxmaj odyssey is all of these things . xxmaj one of the most xxunk films ever created , it 's almost more fun to dissect and discuss the ambiguous plot design and events of the film , than it is to actually watch . xxmaj but it 's left open to discussion intentionally ; if xxmaj kubrick had explained the meaning to his wondrous 1968 classic ( ranked # 22 on xxup afi 's list of the greatest 100 films ever made , my personal 21st favorite xxunk , and nominated for 4 xxmaj academy xxmaj awards : xxmaj director , xxmaj original xxmaj screenplay , xxmaj art xxmaj direction , and xxmaj visual xxmaj effects which it won for ) it would have lost half its fascination , all of its complexity , and a good portion of its cinematic worth . xxmaj we would only be left with the technical ingenuity ; which in itself is worth praising . \n",
       " \n",
       "  xxmaj because every shot is worth taking the time to look . xxmaj and there is plenty of time . 2001 is very elegiac , and also coolly distant ; detached . xxmaj the emotional remoteness and slow pace pay perfect tribute however to the unique visual experience ; 2001 begins with mankind 's ape ancestors , who upgrade from scavengers of the planet to hunters and xxunk after discovering a giant monolith in the midst of their desert home , then ( in one of motion picture history 's most inspired jump - cut edits ) as a bone is tossed into the air and becomes a satellite , jumping forward a couple thousand years into space , where astronauts have discovered a similar object on the moon , and next the film following a crew of space traveler 's mission as they follow the monolith 's signal through space , accompanied by their untrustworthy computer xxup hal , who attempts to sabotage the shuttle and kill the crew , before finally the lone survivor is launched through space and time ( in a flurry of drug - induced colors that probably gave hippies an epileptic shock back in the day ) to grow old , die , and be reborn a \" xxmaj star - child \" . xxmaj whew . \n",
       " \n",
       "  xxmaj this pacing and emotional blankness , is also in sharp contrast with the film 's most ironic scene ; the destruction of xxup hal . xxmaj as the crew 's final explorer shuts the machine down , bathed in the holy aura of red light xxmaj kubrick has always used as a repeat motif , xxup hal singing a lovely tune , it is a strangely emotional experience . xxmaj and it 's all genius . \n",
       " \n",
       "  xxmaj other notable aspects of xxmaj kubrick 's masterpiece is the memorable voice of xxup hal ( a calm , somehow sinister , xxmaj douglas xxmaj rain ) , the minimal use of dialogue ( xxmaj kubrick was wisely trusting of his images to propel the film ; giving only banal , unhelpful lines to his actors . xxmaj the most famous being \" xxmaj open the pod bay doors xxup hal \" ) , satellites dancing around in orbit to unorthodox music , and that first , awe - inspiring shot of earth ; slowly revealing the glare of the sun in front of it , played to the sound of blasting , triumphant horns . \n",
       " \n",
       "  2001 shall always remain a mystery , and will forever be a testament to the cinema 's strongest point : visuals are more powerful than writing . xxmaj it 's all from one of film history 's most legendary and best directors , whose unique vision , was always his own . 10 / 10 \n",
       " \n",
       "  \" xxmaj open the pod bay doors xxup xxunk : a xxmaj space xxmaj odyssey,xxbos xxmaj working in a music store , my xxunk first tipped me this soundtrack . xxmaj the music of this movie is perfect . xxmaj one of my favorite xxup cd 's . xxmaj only years later i saw the movie , i was afraid it would not fulfill my high expectations , luckily it did . a feel good romantic love story .,xxbos i found this movie to be quite enjoyable and fairly entertaining . xxmaj good characters , good actors and enough suspense to keep your interest throughout . xxmaj the plot twists might have been a bit much but overall a decent thriller . xxmaj if you liked this film i would recommend xxmaj the xxmaj spanish xxmaj prisoner , xxmaj the xxmaj house of xxmaj games and xxmaj no xxmaj way xxmaj out .,xxbos xxmaj the basic plot of this film has already been detailed in several other comments so i wo n't bother . i 'd like to first commend the producer , cast , directors and crew for creating a wonderfully engaging film on a meager , $ 1 m budget , a small fraction of standard xxmaj hollywood fare that does n't xxup look cheap . xxmaj these people have a drive to make something new and entertaining while not spending a fortune doing it . xxmaj this is essentially art for art 's sake . i know , i know , some of you will decide that this is not art but something less and that 's fine . i for one am glad that people like these will continue to put forth the time and effort for our benefit without expecting huge multimillion dollar payoffs . \n",
       " \n",
       "  xxmaj now to the criticism . i feel that the scenario presented is credible to a point . xxmaj it 's wonderful when everything works out and the hero / heroine saves the day and all 's well that ends well . xxmaj what gets me is the blatant manipulation of events so that blind luck is responsible more than courage and strength . \n",
       " \n",
       "  xxmaj when lee was attacked but not severely injured , somehow she washed up on a mud bank right next to the dead guide . xxmaj then , miraculously , his loaded revolver is still in his holster and it actually works ( after some cleaning and fiddling ) . xxmaj finally , when xxmaj lee is attacked on the mud bank and jumps in the water , once again the croc fails to kill her . xxmaj she ends up with her hand in his ( her ? ) mouth and manages to repeatedly pull the trigger , ultimately to blow the croc 's brains out ( literally ) . \n",
       " \n",
       "  i came to the conclusion that having xxmaj lee go hand to mouth with the croc was just a way to end the film with the human in triumph . xxmaj based upon what i have seen , the croc 's attack and continue to hold on until the prey stops struggling . xxmaj croc 's will spin around and around to dismember and drown the prey . xxmaj that happened to the first 3 victims but not to xxmaj lee . xxmaj she had teeth marks but they were not deep . \n",
       " \n",
       "  i think that the ending would have been better had the croc won , frankly , thereby proving his dominance of the mangrove , his territory for millions of years . xxmaj but then , how many of us would have been upset or disappointed that the pretty girl did n't get out alive ?\n",
       "y: LMLabelList\n",
       ",,,,\n",
       "Path: /storage/imdb;\n",
       "\n",
       "Valid: LabelList (10000 items)\n",
       "x: LMTextList\n",
       "xxbos xxmaj this is a very silly film . xxmaj all the female characters never walk or run or stand , they mince , xxunk and languish . xxmaj the lesbian vampires of the title are easily the most ineffectual vampires ever to grace the silver screen . xxmaj this whole movie is just too xxmaj european for me . xxmaj and , while the lesbian vampires might have a taste for blood , there sure is very little of it in this film . xxmaj all the above said , i did enjoy this film , because it is so easy to laugh about . xxmaj about the only thing thing this so called erotic horror film is good for is a laugh .,xxbos xxmaj alien xxmaj thunder ( whoever came up with that title should have been pistol whipped ) is just plain dull ! \n",
       " \n",
       "  xxmaj donald xxmaj sutherland ( in a wooden , unlikable performance ) plays xxmaj dan xxmaj candy , a member of xxmaj the xxmaj royal xxmaj canadian xxmaj mounted xxmaj police who arrests an xxmaj indian for slaughtering a government alloted cow without prior approval . xxmaj the xxmaj indian escapes and kills his partner . \n",
       " \n",
       "  xxmaj most of this excruciating movie consists of xxmaj sutherland walking into the woods , coming back empty - handed , and arguing with his superior officer . \n",
       " \n",
       "  xxmaj there 's no suspense and what little action there is ( before the climax ) consists mostly of pot shots taken by and against xxmaj indians on his various trips to the reservation . \n",
       " \n",
       "  xxmaj considering the talent involved , ( xxmaj sutherland , xxmaj kevin mccarthy , xxmaj chief xxmaj dan xxmaj george ) this should have been good . i suggest you watch xxmaj xxunk instead .,xxbos a group of human looking aliens going to xxmaj earth to eat crash land on a planet of prehistoric beasts instead where they all eat xxunk mushrooms and act retarded . xxmaj padded with footage from \" xxmaj planet of the xxmaj xxunk \" and horrible jokes this is definitely one to miss . xxmaj the acting is atrocious as well , and while this is n't as bad as \" xxmaj xxunk \" ( what movie can be ? ) xxmaj this is still pretty awful repugnant stuff . xxmaj it 's 90 minute running time feels like an eternity and you will likely be cursing life so do yourself a huge favor and just move on , skip this crappy film , there 's nothing to see here . \n",
       " \n",
       "  xxmaj the film - makers try to resell this turd as a xxup mst3 k style making fun of the movie they made a decade before , and it works to an extent it 's still nothing that watchable though , xxmaj ariauna xxmaj albright is hot , but xxmaj lilith xxmaj stabs has a pretty unattractive speaking voice . \n",
       " \n",
       "  xxmaj my xxmaj grade : xxup d- \n",
       " \n",
       "  xxup dvd xxmaj extras : xxmaj joke commentary , 17 xxmaj behind the scenes featurette ; 7 minute xxmaj into the black featurette ; xxmaj jessica xxmaj mills reporting ; xxmaj stills gallery ; and original trailer,xxbos xxmaj sometimes you have to take things to a point to make a point . xxmaj michael xxmaj moore has many times been accused of lying or being naive and not showing the whole picture but the truth is that if you are documenting the type of phenomenons that he is you have to take things to the very edge to be able to show your point of view . xxmaj even further , you ca n't tangle yourself in semantics and rhetorical endless discussion if you want the regular ordinary man on the street to get interested . xxmaj this is xxmaj moores dilemma . xxmaj he 's trying to make very complex matters simple and it 's not an easy task . \n",
       " \n",
       "  xxmaj now , i 'm the first to agree on that he 's not always accurate and sometimes not even right , but he finishes his mission which is ; xxmaj to make people think ! xxmaj and this is far more important sometimes than being 100 % true . \n",
       " \n",
       "  xxmaj he even got xxmaj mr xxmaj wilson to make a movie about him . xxmaj and that 's why we are here . \n",
       " \n",
       "  xxmaj wilson is trying to use xxmaj moores own rhetoric back on him . xxmaj he is even got a attorney / author ( sic ! ) to claim that xxmaj moore has some personality disorder . xxmaj he uses the same techniques as him and gets the man on the street to air his opinions and as a coincidence , they are the same as xxmaj wilson 's . xxmaj to boil it all down , he is trying to make a xxmaj fahrenheit 9 / 11 about xxmaj fahrenheit 9 / 11 . \n",
       " \n",
       "  xxmaj now , of course you should challenge xxmaj moore 's ideas . xxmaj of course you should make up your own mind and try to find the facts yourself . xxmaj that 's the whole point of democracy . xxmaj but where xxmaj moore is brilliant with expressing his points and political viewpoint , xxmaj wilson is far too blunt . xxmaj it even gets to the point where you get the feeling that xxmaj wilson is not even challenging xxmaj moore but is in it for his own personal witch hunt out of some personal dislike . xxmaj which is exactly what he 's accusing xxmaj moore for doing to xxmaj mr xxup c. xxmaj heston and xxup xxunk xxmaj bush . xxmaj and this , of course , is not good since as a fact he then becomes xxmaj moore . \n",
       " \n",
       "  xxmaj at a point i could almost see him crying off camera because xxmaj moore does n't return his calls . xxmaj and , come on xxmaj wilson , why did you try to make a point about if he cursed or not ? a big difference between xxmaj moore and xxmaj wilson is also this ; xxmaj where xxmaj moore gets people to speak their mind , xxmaj wilson will get to use the interviews as long as \" they do n't look bad \" . xxmaj do n't look bad ? xxmaj that 's the whole point of investigating journalism , if it looks bad it probably is and you should bring it out in the open . xxmaj not the corporate approved statements and views . \n",
       " \n",
       "  xxmaj further more , the sections with xxmaj penn ( yes , xxmaj penn from xxunk ) screams \" xxmaj you should only show what is government approved \" . i ca n't help to recall what the late xxmaj bill xxmaj hicks said : \" xxmaj you are free to do what we tell you ! xxmaj here 's 16 channels of xxmaj american xxmaj gladiators to choose from \" . \n",
       " \n",
       "  xxmaj now , it might be that we in xxmaj europe are more used to harsh journalists that dissect everything , but i get a feeling that xxmaj wilson does not fully understand how and why you do an investigating documentary . xxmaj if peoples toes are going to be stepped on ? xxmaj sure . xxmaj if people are going to get mad because things are shown that was n't supposed to be ? xxmaj of course . xxmaj if this is wrong ? xxmaj not a bit . \n",
       " \n",
       "  a cause , belief or movement that ca n't stand to be investigated or made fun of , is not meant to survive . xxmaj it 's as simple as that . \n",
       " \n",
       "  i could go on and on and point out the errors i think xxmaj wilson is doing this film . xxmaj the truth is that xxmaj wilson should have practiced a bit more first before taking on a challenge as this . xxmaj he is accusing xxmaj moore of editing his movies and then he does the same thing himself . xxmaj he makes a point of xxmaj moore using comments and interviews out of context and then , yes you guessed right , he does it himself . xxmaj he twists and turns from challenging xxmaj moores movies to challenging xxmaj moore himself . xxmaj it all turns into a amateurish soup where you have no real thread to follow . i even felt , after the shop door incident , that he was trying to do a \" xxmaj cops \" episode . \n",
       " \n",
       "  xxmaj no , xxmaj wilson , this is not good . xxmaj you should have practiced by making some xxmaj youtube movies first to get warm in the clothes before going for the trophy ; xxmaj michael xxmaj moore .,xxbos xxmaj this is one of my favourite films of all time . xxmaj it has such a feel good factor that i get it out and watch it at least three times a year and have done since i was kid , surfing with my friends in xxmaj cornwall in the early eighties . xxmaj following the lives of three friends from 1962 to the \" great swell \" of 1974 , this is a beautifully shot movie with warm characters that you grow to really care about . xxmaj from the opening credits with , believe it or not , the wonderfully mellow voice - over provided by xxmaj robert xxmaj england , to the final mega surfing scene the story pulls you in with it 's glorious scenery , great acting and superbly shot surfing scenes . xxmaj based around xxmaj milius 's own experiences this is a classic and in my opinion , the best surfing film ever made .\n",
       "y: LMLabelList\n",
       ",,,,\n",
       "Path: /storage/imdb;\n",
       "\n",
       "Test: None, model=SequentialRNN(\n",
       "  (0): AWD_LSTM(\n",
       "    (encoder): Embedding(60000, 400, padding_idx=1)\n",
       "    (encoder_dp): EmbeddingDropout(\n",
       "      (emb): Embedding(60000, 400, padding_idx=1)\n",
       "    )\n",
       "    (rnns): ModuleList(\n",
       "      (0): WeightDropout(\n",
       "        (module): LSTM(400, 1152, batch_first=True)\n",
       "      )\n",
       "      (1): WeightDropout(\n",
       "        (module): LSTM(1152, 1152, batch_first=True)\n",
       "      )\n",
       "      (2): WeightDropout(\n",
       "        (module): LSTM(1152, 400, batch_first=True)\n",
       "      )\n",
       "    )\n",
       "    (input_dp): RNNDropout()\n",
       "    (hidden_dps): ModuleList(\n",
       "      (0): RNNDropout()\n",
       "      (1): RNNDropout()\n",
       "      (2): RNNDropout()\n",
       "    )\n",
       "  )\n",
       "  (1): LinearDecoder(\n",
       "    (decoder): Linear(in_features=400, out_features=60000, bias=True)\n",
       "    (output_dp): RNNDropout()\n",
       "  )\n",
       "), opt_func=functools.partial(<class 'torch.optim.adam.Adam'>, betas=(0.9, 0.99)), loss_func=FlattenedLoss of CrossEntropyLoss(), metrics=[<function accuracy at 0x7f3e62b39400>], true_wd=True, bn_wd=True, wd=0.01, train_bn=True, path=PosixPath('/storage/imdb'), model_dir='models', callback_fns=[functools.partial(<class 'fastai.basic_train.Recorder'>, add_time=True, silent=False)], callbacks=[...], layer_groups=[Sequential(\n",
       "  (0): WeightDropout(\n",
       "    (module): LSTM(400, 1152, batch_first=True)\n",
       "  )\n",
       "  (1): RNNDropout()\n",
       "), Sequential(\n",
       "  (0): WeightDropout(\n",
       "    (module): LSTM(1152, 1152, batch_first=True)\n",
       "  )\n",
       "  (1): RNNDropout()\n",
       "), Sequential(\n",
       "  (0): WeightDropout(\n",
       "    (module): LSTM(1152, 400, batch_first=True)\n",
       "  )\n",
       "  (1): RNNDropout()\n",
       "), Sequential(\n",
       "  (0): Embedding(60000, 400, padding_idx=1)\n",
       "  (1): EmbeddingDropout(\n",
       "    (emb): Embedding(60000, 400, padding_idx=1)\n",
       "  )\n",
       "  (2): LinearDecoder(\n",
       "    (decoder): Linear(in_features=400, out_features=60000, bias=True)\n",
       "    (output_dp): RNNDropout()\n",
       "  )\n",
       ")], add_time=True, silent=False)\n",
       "alpha: 2.0\n",
       "beta: 1.0], layer_groups=[Sequential(\n",
       "  (0): WeightDropout(\n",
       "    (module): LSTM(400, 1152, batch_first=True)\n",
       "  )\n",
       "  (1): RNNDropout()\n",
       "), Sequential(\n",
       "  (0): WeightDropout(\n",
       "    (module): LSTM(1152, 1152, batch_first=True)\n",
       "  )\n",
       "  (1): RNNDropout()\n",
       "), Sequential(\n",
       "  (0): WeightDropout(\n",
       "    (module): LSTM(1152, 400, batch_first=True)\n",
       "  )\n",
       "  (1): RNNDropout()\n",
       "), Sequential(\n",
       "  (0): Embedding(60000, 400, padding_idx=1)\n",
       "  (1): EmbeddingDropout(\n",
       "    (emb): Embedding(60000, 400, padding_idx=1)\n",
       "  )\n",
       "  (2): LinearDecoder(\n",
       "    (decoder): Linear(in_features=400, out_features=60000, bias=True)\n",
       "    (output_dp): RNNDropout()\n",
       "  )\n",
       ")], add_time=True, silent=False)"
      ]
     },
     "execution_count": 42,
     "metadata": {},
     "output_type": "execute_result"
    }
   ],
   "source": [
    "learn.load('fit_head')"
   ]
  },
  {
   "cell_type": "code",
   "execution_count": 43,
   "metadata": {},
   "outputs": [],
   "source": [
    "learn.unfreeze()"
   ]
  },
  {
   "cell_type": "code",
   "execution_count": null,
   "metadata": {},
   "outputs": [],
   "source": [
    "learn.fit_one_cycle(10, moms=(0.8, 0.7))"
   ]
  },
  {
   "cell_type": "code",
   "execution_count": null,
   "metadata": {},
   "outputs": [],
   "source": [
    "learn.save(\"fine_tuned\")"
   ]
  },
  {
   "cell_type": "code",
   "execution_count": 45,
   "metadata": {},
   "outputs": [],
   "source": [
    "learn.load(\"fine_tuned\");"
   ]
  },
  {
   "cell_type": "code",
   "execution_count": 46,
   "metadata": {},
   "outputs": [],
   "source": [
    "TEXT = \"I liked this movie because\"\n",
    "N_WORDS = 40\n",
    "N_SENTENCES = 2"
   ]
  },
  {
   "cell_type": "code",
   "execution_count": 47,
   "metadata": {},
   "outputs": [
    {
     "name": "stdout",
     "output_type": "stream",
     "text": [
      "I liked this movie because of the good reviews that the movie had . It had a few people who was really good and i was very disappointed to say it was not worth watching . So it is almost so bad its\n",
      "I liked this movie because it was a good movie and i liked it . i was about to watch it again and again . It was a good movie ! Very funny , the movie had great plot twists and i like\n"
     ]
    }
   ],
   "source": [
    "print(\"\\n\".join(learn.predict(TEXT, N_WORDS, temperature=0.75) for _ in range(N_SENTENCES)))"
   ]
  },
  {
   "cell_type": "code",
   "execution_count": 48,
   "metadata": {},
   "outputs": [],
   "source": [
    "learn.save_encoder(\"fine_tuned_enc\")"
   ]
  },
  {
   "cell_type": "markdown",
   "metadata": {},
   "source": [
    "## Classification"
   ]
  },
  {
   "cell_type": "code",
   "execution_count": 51,
   "metadata": {},
   "outputs": [
    {
     "data": {
      "text/plain": [
       "[PosixPath('/storage/imdb/tmp_clas'),\n",
       " PosixPath('/storage/imdb/test'),\n",
       " PosixPath('/storage/imdb/data_lm.pkl'),\n",
       " PosixPath('/storage/imdb/models'),\n",
       " PosixPath('/storage/imdb/imdb.vocab'),\n",
       " PosixPath('/storage/imdb/data_clas.pkl'),\n",
       " PosixPath('/storage/imdb/train'),\n",
       " PosixPath('/storage/imdb/README'),\n",
       " PosixPath('/storage/imdb/unsup'),\n",
       " PosixPath('/storage/imdb/tmp_lm')]"
      ]
     },
     "execution_count": 51,
     "metadata": {},
     "output_type": "execute_result"
    }
   ],
   "source": [
    "path = untar_data(URLs.IMDB)\n",
    "path.ls()"
   ]
  },
  {
   "cell_type": "code",
   "execution_count": 52,
   "metadata": {},
   "outputs": [
    {
     "data": {
      "text/plain": [
       "[PosixPath('/storage/imdb/train/pos'),\n",
       " PosixPath('/storage/imdb/train/labeledBow.feat'),\n",
       " PosixPath('/storage/imdb/train/neg'),\n",
       " PosixPath('/storage/imdb/train/unsupBow.feat')]"
      ]
     },
     "execution_count": 52,
     "metadata": {},
     "output_type": "execute_result"
    }
   ],
   "source": [
    "(path/'train').ls()"
   ]
  },
  {
   "cell_type": "code",
   "execution_count": 55,
   "metadata": {},
   "outputs": [
    {
     "data": {
      "text/html": [],
      "text/plain": [
       "<IPython.core.display.HTML object>"
      ]
     },
     "metadata": {},
     "output_type": "display_data"
    },
    {
     "data": {
      "text/html": [],
      "text/plain": [
       "<IPython.core.display.HTML object>"
      ]
     },
     "metadata": {},
     "output_type": "display_data"
    }
   ],
   "source": [
    "data_clas = (TextList.from_folder(path, vocab=data_lm.vocab)\n",
    "             #grab all the text files in path\n",
    "             .split_by_folder(valid='test')\n",
    "             #split by train and valid folder (that only keeps 'train' and 'test' so no need to filter)\n",
    "             .label_from_folder(classes=['neg', 'pos'])\n",
    "             #label them all with their folders\n",
    "             .databunch(bs=bs))\n",
    "\n",
    "data_clas.save('data_clas.pkl')"
   ]
  },
  {
   "cell_type": "code",
   "execution_count": null,
   "metadata": {},
   "outputs": [],
   "source": [
    "data_clas = load_data('data_clas.pkl')"
   ]
  },
  {
   "cell_type": "code",
   "execution_count": 57,
   "metadata": {},
   "outputs": [
    {
     "data": {
      "text/plain": [
       "LanguageLearner(data=TextLMDataBunch;\n",
       "\n",
       "Train: LabelList (90000 items)\n",
       "x: LMTextList\n",
       "xxbos xxmaj claire xxmaj booth xxmaj luce 's \" xxmaj the xxmaj women \" shows relationships with men through a woman 's point of view in a play , ( and 1939 film that also has xxmaj joan xxmaj crawford playing a bitch : a character who might have been xxmaj amanda xxmaj farrow 20 years before ) , that has no male characters . xxmaj here we see the male characters and what a bunch they are . xxmaj they use women like toys and throw them away , leaving the women to suffer . xxmaj ironically , the women in \" xxmaj the xxmaj women \" , perhaps because they are all we see , are shown in a less than favorable light , alternately silly and scheming , with the only \" nice \" one , ( xxmaj norma xxmaj shearer ) , growing \" claws \" by the end . xxmaj in \" xxmaj the xxmaj best of xxmaj everything \" we see the men for the cads they are while the women are largely innocent and vulnerable . \n",
       " \n",
       "  xxmaj this is a film about women leaping from things . xxmaj diane xxmaj baker leaps from a car , ( in perhaps the most absurd scene in cinema history , which is not in the book ) . xxmaj suzy xxmaj parker falls from a fire escape . xxmaj the women in the film are leaping into the workplace , looking for success and love at the same time . xxmaj women would leap into the future and leave this type of soap opera behind in the next decade . xxmaj but they would come back to it in the 80 's and 90 's through the novels of people like xxmaj sidney xxmaj sheldon and xxmaj judith xxmaj krantz , ( although their trashier works are n't as good as this ) . \n",
       " \n",
       "  xxmaj the best thing about this film is the way it looks . i love the glossy cinemascope films of the 50 's and 60 's . xxmaj they look so much better than the pixel - challenged home movies we 've been making since , especially in the letterboxed version we see on xxup tv , and the xxup dvd , with the picture so clear you could walk into it . xxmaj the look of the bevy of young beauties in it is also memorable . xxmaj this film probably has more beautiful women in it than any other . xxmaj it has a supermodel , ( xxmaj suzy xxmaj parker ) , a beauty queen , ( xxmaj myrna xxmaj hansen , who was not xxmaj miss xxmaj america 1954 as xxmaj rona xxmaj jaffe says in the xxup dvd commentary but rather xxmaj miss xxup usa 1953 , per the imdb : but so what ) , and a xxmaj playboy playmate , ( xxmaj june xxmaj blair , from xxmaj january 1957 ) . xxmaj my vote goes to xxmaj suzy , one of the astonishing beauties of all time . xxmaj her acting here is n't as awful as people pretend : they are just reacting , as people did then , to the sight of a supermodel , ( the first , really ) , trying to act . xxmaj nobody seemed to care how well she did . xxmaj her role , that of an apparently worldly woman who turns out to be the most vulnerable , is the most complex in the bunch and she does just fine . \n",
       " \n",
       "  xxmaj the most touching thing about the film now is the age of the female leads at the time . xxmaj hope xxmaj lange was 27 when they filmed this in the spring of 1959 . xxmaj diane xxmaj baker was 20 . xxmaj suzy xxmaj parker was 26 . xxmaj hope , who looked to be xxmaj grace xxmaj kelly 's heir , never made it really big and wound up being xxmaj mrs. xxmaj muir on television and , per the imdb , wound up living in a home with \" crates for coffee tables \" because she spent her money on causes she believed in before dying at age 72 in 2003 . xxmaj this film must have seemed a very distant and irrelevant memory to her by then . xxmaj baker , always a welcome face in 60 's xxup tv , ( especially to xxmaj richard xxmaj kimble ) , and still active as an actress and acting coach , just turned 67 . xxmaj parker found \" the best of everything \" with xxmaj bradford xxmaj dillman for 40 years before dying at age 70 the same year xxmaj lange did . xxmaj but here they are , young , beautiful and ambitious for success and love , just like their characters .,xxbos 2001 : a xxmaj space xxmaj odyssey \n",
       " \n",
       "  xxmaj is it a sermon ? xxmaj an account of the history of mankind ? xxmaj an exploration of man 's futile attempts to advance technology only to have technology destroy him ? xxmaj is it about the fragile balance of time and space ? a lesson in evolution ? xxmaj or is it just a spectacular effects show ; a film xxmaj kubrick made only to show us the limitless possibilities of the motion picture and present to us the truth that images are exceedingly more powerful than words ? \n",
       " \n",
       "  2001 : a xxmaj space xxmaj odyssey is all of these things . xxmaj one of the most xxunk films ever created , it 's almost more fun to dissect and discuss the ambiguous plot design and events of the film , than it is to actually watch . xxmaj but it 's left open to discussion intentionally ; if xxmaj kubrick had explained the meaning to his wondrous 1968 classic ( ranked # 22 on xxup afi 's list of the greatest 100 films ever made , my personal 21st favorite xxunk , and nominated for 4 xxmaj academy xxmaj awards : xxmaj director , xxmaj original xxmaj screenplay , xxmaj art xxmaj direction , and xxmaj visual xxmaj effects which it won for ) it would have lost half its fascination , all of its complexity , and a good portion of its cinematic worth . xxmaj we would only be left with the technical ingenuity ; which in itself is worth praising . \n",
       " \n",
       "  xxmaj because every shot is worth taking the time to look . xxmaj and there is plenty of time . 2001 is very elegiac , and also coolly distant ; detached . xxmaj the emotional remoteness and slow pace pay perfect tribute however to the unique visual experience ; 2001 begins with mankind 's ape ancestors , who upgrade from scavengers of the planet to hunters and xxunk after discovering a giant monolith in the midst of their desert home , then ( in one of motion picture history 's most inspired jump - cut edits ) as a bone is tossed into the air and becomes a satellite , jumping forward a couple thousand years into space , where astronauts have discovered a similar object on the moon , and next the film following a crew of space traveler 's mission as they follow the monolith 's signal through space , accompanied by their untrustworthy computer xxup hal , who attempts to sabotage the shuttle and kill the crew , before finally the lone survivor is launched through space and time ( in a flurry of drug - induced colors that probably gave hippies an epileptic shock back in the day ) to grow old , die , and be reborn a \" xxmaj star - child \" . xxmaj whew . \n",
       " \n",
       "  xxmaj this pacing and emotional blankness , is also in sharp contrast with the film 's most ironic scene ; the destruction of xxup hal . xxmaj as the crew 's final explorer shuts the machine down , bathed in the holy aura of red light xxmaj kubrick has always used as a repeat motif , xxup hal singing a lovely tune , it is a strangely emotional experience . xxmaj and it 's all genius . \n",
       " \n",
       "  xxmaj other notable aspects of xxmaj kubrick 's masterpiece is the memorable voice of xxup hal ( a calm , somehow sinister , xxmaj douglas xxmaj rain ) , the minimal use of dialogue ( xxmaj kubrick was wisely trusting of his images to propel the film ; giving only banal , unhelpful lines to his actors . xxmaj the most famous being \" xxmaj open the pod bay doors xxup hal \" ) , satellites dancing around in orbit to unorthodox music , and that first , awe - inspiring shot of earth ; slowly revealing the glare of the sun in front of it , played to the sound of blasting , triumphant horns . \n",
       " \n",
       "  2001 shall always remain a mystery , and will forever be a testament to the cinema 's strongest point : visuals are more powerful than writing . xxmaj it 's all from one of film history 's most legendary and best directors , whose unique vision , was always his own . 10 / 10 \n",
       " \n",
       "  \" xxmaj open the pod bay doors xxup xxunk : a xxmaj space xxmaj odyssey,xxbos xxmaj working in a music store , my xxunk first tipped me this soundtrack . xxmaj the music of this movie is perfect . xxmaj one of my favorite xxup cd 's . xxmaj only years later i saw the movie , i was afraid it would not fulfill my high expectations , luckily it did . a feel good romantic love story .,xxbos i found this movie to be quite enjoyable and fairly entertaining . xxmaj good characters , good actors and enough suspense to keep your interest throughout . xxmaj the plot twists might have been a bit much but overall a decent thriller . xxmaj if you liked this film i would recommend xxmaj the xxmaj spanish xxmaj prisoner , xxmaj the xxmaj house of xxmaj games and xxmaj no xxmaj way xxmaj out .,xxbos xxmaj the basic plot of this film has already been detailed in several other comments so i wo n't bother . i 'd like to first commend the producer , cast , directors and crew for creating a wonderfully engaging film on a meager , $ 1 m budget , a small fraction of standard xxmaj hollywood fare that does n't xxup look cheap . xxmaj these people have a drive to make something new and entertaining while not spending a fortune doing it . xxmaj this is essentially art for art 's sake . i know , i know , some of you will decide that this is not art but something less and that 's fine . i for one am glad that people like these will continue to put forth the time and effort for our benefit without expecting huge multimillion dollar payoffs . \n",
       " \n",
       "  xxmaj now to the criticism . i feel that the scenario presented is credible to a point . xxmaj it 's wonderful when everything works out and the hero / heroine saves the day and all 's well that ends well . xxmaj what gets me is the blatant manipulation of events so that blind luck is responsible more than courage and strength . \n",
       " \n",
       "  xxmaj when lee was attacked but not severely injured , somehow she washed up on a mud bank right next to the dead guide . xxmaj then , miraculously , his loaded revolver is still in his holster and it actually works ( after some cleaning and fiddling ) . xxmaj finally , when xxmaj lee is attacked on the mud bank and jumps in the water , once again the croc fails to kill her . xxmaj she ends up with her hand in his ( her ? ) mouth and manages to repeatedly pull the trigger , ultimately to blow the croc 's brains out ( literally ) . \n",
       " \n",
       "  i came to the conclusion that having xxmaj lee go hand to mouth with the croc was just a way to end the film with the human in triumph . xxmaj based upon what i have seen , the croc 's attack and continue to hold on until the prey stops struggling . xxmaj croc 's will spin around and around to dismember and drown the prey . xxmaj that happened to the first 3 victims but not to xxmaj lee . xxmaj she had teeth marks but they were not deep . \n",
       " \n",
       "  i think that the ending would have been better had the croc won , frankly , thereby proving his dominance of the mangrove , his territory for millions of years . xxmaj but then , how many of us would have been upset or disappointed that the pretty girl did n't get out alive ?\n",
       "y: LMLabelList\n",
       ",,,,\n",
       "Path: /storage/imdb;\n",
       "\n",
       "Valid: LabelList (10000 items)\n",
       "x: LMTextList\n",
       "xxbos xxmaj this is a very silly film . xxmaj all the female characters never walk or run or stand , they mince , xxunk and languish . xxmaj the lesbian vampires of the title are easily the most ineffectual vampires ever to grace the silver screen . xxmaj this whole movie is just too xxmaj european for me . xxmaj and , while the lesbian vampires might have a taste for blood , there sure is very little of it in this film . xxmaj all the above said , i did enjoy this film , because it is so easy to laugh about . xxmaj about the only thing thing this so called erotic horror film is good for is a laugh .,xxbos xxmaj alien xxmaj thunder ( whoever came up with that title should have been pistol whipped ) is just plain dull ! \n",
       " \n",
       "  xxmaj donald xxmaj sutherland ( in a wooden , unlikable performance ) plays xxmaj dan xxmaj candy , a member of xxmaj the xxmaj royal xxmaj canadian xxmaj mounted xxmaj police who arrests an xxmaj indian for slaughtering a government alloted cow without prior approval . xxmaj the xxmaj indian escapes and kills his partner . \n",
       " \n",
       "  xxmaj most of this excruciating movie consists of xxmaj sutherland walking into the woods , coming back empty - handed , and arguing with his superior officer . \n",
       " \n",
       "  xxmaj there 's no suspense and what little action there is ( before the climax ) consists mostly of pot shots taken by and against xxmaj indians on his various trips to the reservation . \n",
       " \n",
       "  xxmaj considering the talent involved , ( xxmaj sutherland , xxmaj kevin mccarthy , xxmaj chief xxmaj dan xxmaj george ) this should have been good . i suggest you watch xxmaj xxunk instead .,xxbos a group of human looking aliens going to xxmaj earth to eat crash land on a planet of prehistoric beasts instead where they all eat xxunk mushrooms and act retarded . xxmaj padded with footage from \" xxmaj planet of the xxmaj xxunk \" and horrible jokes this is definitely one to miss . xxmaj the acting is atrocious as well , and while this is n't as bad as \" xxmaj xxunk \" ( what movie can be ? ) xxmaj this is still pretty awful repugnant stuff . xxmaj it 's 90 minute running time feels like an eternity and you will likely be cursing life so do yourself a huge favor and just move on , skip this crappy film , there 's nothing to see here . \n",
       " \n",
       "  xxmaj the film - makers try to resell this turd as a xxup mst3 k style making fun of the movie they made a decade before , and it works to an extent it 's still nothing that watchable though , xxmaj ariauna xxmaj albright is hot , but xxmaj lilith xxmaj stabs has a pretty unattractive speaking voice . \n",
       " \n",
       "  xxmaj my xxmaj grade : xxup d- \n",
       " \n",
       "  xxup dvd xxmaj extras : xxmaj joke commentary , 17 xxmaj behind the scenes featurette ; 7 minute xxmaj into the black featurette ; xxmaj jessica xxmaj mills reporting ; xxmaj stills gallery ; and original trailer,xxbos xxmaj sometimes you have to take things to a point to make a point . xxmaj michael xxmaj moore has many times been accused of lying or being naive and not showing the whole picture but the truth is that if you are documenting the type of phenomenons that he is you have to take things to the very edge to be able to show your point of view . xxmaj even further , you ca n't tangle yourself in semantics and rhetorical endless discussion if you want the regular ordinary man on the street to get interested . xxmaj this is xxmaj moores dilemma . xxmaj he 's trying to make very complex matters simple and it 's not an easy task . \n",
       " \n",
       "  xxmaj now , i 'm the first to agree on that he 's not always accurate and sometimes not even right , but he finishes his mission which is ; xxmaj to make people think ! xxmaj and this is far more important sometimes than being 100 % true . \n",
       " \n",
       "  xxmaj he even got xxmaj mr xxmaj wilson to make a movie about him . xxmaj and that 's why we are here . \n",
       " \n",
       "  xxmaj wilson is trying to use xxmaj moores own rhetoric back on him . xxmaj he is even got a attorney / author ( sic ! ) to claim that xxmaj moore has some personality disorder . xxmaj he uses the same techniques as him and gets the man on the street to air his opinions and as a coincidence , they are the same as xxmaj wilson 's . xxmaj to boil it all down , he is trying to make a xxmaj fahrenheit 9 / 11 about xxmaj fahrenheit 9 / 11 . \n",
       " \n",
       "  xxmaj now , of course you should challenge xxmaj moore 's ideas . xxmaj of course you should make up your own mind and try to find the facts yourself . xxmaj that 's the whole point of democracy . xxmaj but where xxmaj moore is brilliant with expressing his points and political viewpoint , xxmaj wilson is far too blunt . xxmaj it even gets to the point where you get the feeling that xxmaj wilson is not even challenging xxmaj moore but is in it for his own personal witch hunt out of some personal dislike . xxmaj which is exactly what he 's accusing xxmaj moore for doing to xxmaj mr xxup c. xxmaj heston and xxup xxunk xxmaj bush . xxmaj and this , of course , is not good since as a fact he then becomes xxmaj moore . \n",
       " \n",
       "  xxmaj at a point i could almost see him crying off camera because xxmaj moore does n't return his calls . xxmaj and , come on xxmaj wilson , why did you try to make a point about if he cursed or not ? a big difference between xxmaj moore and xxmaj wilson is also this ; xxmaj where xxmaj moore gets people to speak their mind , xxmaj wilson will get to use the interviews as long as \" they do n't look bad \" . xxmaj do n't look bad ? xxmaj that 's the whole point of investigating journalism , if it looks bad it probably is and you should bring it out in the open . xxmaj not the corporate approved statements and views . \n",
       " \n",
       "  xxmaj further more , the sections with xxmaj penn ( yes , xxmaj penn from xxunk ) screams \" xxmaj you should only show what is government approved \" . i ca n't help to recall what the late xxmaj bill xxmaj hicks said : \" xxmaj you are free to do what we tell you ! xxmaj here 's 16 channels of xxmaj american xxmaj gladiators to choose from \" . \n",
       " \n",
       "  xxmaj now , it might be that we in xxmaj europe are more used to harsh journalists that dissect everything , but i get a feeling that xxmaj wilson does not fully understand how and why you do an investigating documentary . xxmaj if peoples toes are going to be stepped on ? xxmaj sure . xxmaj if people are going to get mad because things are shown that was n't supposed to be ? xxmaj of course . xxmaj if this is wrong ? xxmaj not a bit . \n",
       " \n",
       "  a cause , belief or movement that ca n't stand to be investigated or made fun of , is not meant to survive . xxmaj it 's as simple as that . \n",
       " \n",
       "  i could go on and on and point out the errors i think xxmaj wilson is doing this film . xxmaj the truth is that xxmaj wilson should have practiced a bit more first before taking on a challenge as this . xxmaj he is accusing xxmaj moore of editing his movies and then he does the same thing himself . xxmaj he makes a point of xxmaj moore using comments and interviews out of context and then , yes you guessed right , he does it himself . xxmaj he twists and turns from challenging xxmaj moores movies to challenging xxmaj moore himself . xxmaj it all turns into a amateurish soup where you have no real thread to follow . i even felt , after the shop door incident , that he was trying to do a \" xxmaj cops \" episode . \n",
       " \n",
       "  xxmaj no , xxmaj wilson , this is not good . xxmaj you should have practiced by making some xxmaj youtube movies first to get warm in the clothes before going for the trophy ; xxmaj michael xxmaj moore .,xxbos xxmaj this is one of my favourite films of all time . xxmaj it has such a feel good factor that i get it out and watch it at least three times a year and have done since i was kid , surfing with my friends in xxmaj cornwall in the early eighties . xxmaj following the lives of three friends from 1962 to the \" great swell \" of 1974 , this is a beautifully shot movie with warm characters that you grow to really care about . xxmaj from the opening credits with , believe it or not , the wonderfully mellow voice - over provided by xxmaj robert xxmaj england , to the final mega surfing scene the story pulls you in with it 's glorious scenery , great acting and superbly shot surfing scenes . xxmaj based around xxmaj milius 's own experiences this is a classic and in my opinion , the best surfing film ever made .\n",
       "y: LMLabelList\n",
       ",,,,\n",
       "Path: /storage/imdb;\n",
       "\n",
       "Test: None, model=SequentialRNN(\n",
       "  (0): AWD_LSTM(\n",
       "    (encoder): Embedding(60000, 400, padding_idx=1)\n",
       "    (encoder_dp): EmbeddingDropout(\n",
       "      (emb): Embedding(60000, 400, padding_idx=1)\n",
       "    )\n",
       "    (rnns): ModuleList(\n",
       "      (0): WeightDropout(\n",
       "        (module): LSTM(400, 1152, batch_first=True)\n",
       "      )\n",
       "      (1): WeightDropout(\n",
       "        (module): LSTM(1152, 1152, batch_first=True)\n",
       "      )\n",
       "      (2): WeightDropout(\n",
       "        (module): LSTM(1152, 400, batch_first=True)\n",
       "      )\n",
       "    )\n",
       "    (input_dp): RNNDropout()\n",
       "    (hidden_dps): ModuleList(\n",
       "      (0): RNNDropout()\n",
       "      (1): RNNDropout()\n",
       "      (2): RNNDropout()\n",
       "    )\n",
       "  )\n",
       "  (1): LinearDecoder(\n",
       "    (decoder): Linear(in_features=400, out_features=60000, bias=True)\n",
       "    (output_dp): RNNDropout()\n",
       "  )\n",
       "), opt_func=functools.partial(<class 'torch.optim.adam.Adam'>, betas=(0.9, 0.99)), loss_func=FlattenedLoss of CrossEntropyLoss(), metrics=[<function accuracy at 0x7f3e62b39400>], true_wd=True, bn_wd=True, wd=0.01, train_bn=True, path=PosixPath('/storage/imdb'), model_dir='models', callback_fns=[functools.partial(<class 'fastai.basic_train.Recorder'>, add_time=True, silent=False)], callbacks=[RNNTrainer\n",
       "learn: LanguageLearner(data=TextLMDataBunch;\n",
       "\n",
       "Train: LabelList (90000 items)\n",
       "x: LMTextList\n",
       "xxbos xxmaj claire xxmaj booth xxmaj luce 's \" xxmaj the xxmaj women \" shows relationships with men through a woman 's point of view in a play , ( and 1939 film that also has xxmaj joan xxmaj crawford playing a bitch : a character who might have been xxmaj amanda xxmaj farrow 20 years before ) , that has no male characters . xxmaj here we see the male characters and what a bunch they are . xxmaj they use women like toys and throw them away , leaving the women to suffer . xxmaj ironically , the women in \" xxmaj the xxmaj women \" , perhaps because they are all we see , are shown in a less than favorable light , alternately silly and scheming , with the only \" nice \" one , ( xxmaj norma xxmaj shearer ) , growing \" claws \" by the end . xxmaj in \" xxmaj the xxmaj best of xxmaj everything \" we see the men for the cads they are while the women are largely innocent and vulnerable . \n",
       " \n",
       "  xxmaj this is a film about women leaping from things . xxmaj diane xxmaj baker leaps from a car , ( in perhaps the most absurd scene in cinema history , which is not in the book ) . xxmaj suzy xxmaj parker falls from a fire escape . xxmaj the women in the film are leaping into the workplace , looking for success and love at the same time . xxmaj women would leap into the future and leave this type of soap opera behind in the next decade . xxmaj but they would come back to it in the 80 's and 90 's through the novels of people like xxmaj sidney xxmaj sheldon and xxmaj judith xxmaj krantz , ( although their trashier works are n't as good as this ) . \n",
       " \n",
       "  xxmaj the best thing about this film is the way it looks . i love the glossy cinemascope films of the 50 's and 60 's . xxmaj they look so much better than the pixel - challenged home movies we 've been making since , especially in the letterboxed version we see on xxup tv , and the xxup dvd , with the picture so clear you could walk into it . xxmaj the look of the bevy of young beauties in it is also memorable . xxmaj this film probably has more beautiful women in it than any other . xxmaj it has a supermodel , ( xxmaj suzy xxmaj parker ) , a beauty queen , ( xxmaj myrna xxmaj hansen , who was not xxmaj miss xxmaj america 1954 as xxmaj rona xxmaj jaffe says in the xxup dvd commentary but rather xxmaj miss xxup usa 1953 , per the imdb : but so what ) , and a xxmaj playboy playmate , ( xxmaj june xxmaj blair , from xxmaj january 1957 ) . xxmaj my vote goes to xxmaj suzy , one of the astonishing beauties of all time . xxmaj her acting here is n't as awful as people pretend : they are just reacting , as people did then , to the sight of a supermodel , ( the first , really ) , trying to act . xxmaj nobody seemed to care how well she did . xxmaj her role , that of an apparently worldly woman who turns out to be the most vulnerable , is the most complex in the bunch and she does just fine . \n",
       " \n",
       "  xxmaj the most touching thing about the film now is the age of the female leads at the time . xxmaj hope xxmaj lange was 27 when they filmed this in the spring of 1959 . xxmaj diane xxmaj baker was 20 . xxmaj suzy xxmaj parker was 26 . xxmaj hope , who looked to be xxmaj grace xxmaj kelly 's heir , never made it really big and wound up being xxmaj mrs. xxmaj muir on television and , per the imdb , wound up living in a home with \" crates for coffee tables \" because she spent her money on causes she believed in before dying at age 72 in 2003 . xxmaj this film must have seemed a very distant and irrelevant memory to her by then . xxmaj baker , always a welcome face in 60 's xxup tv , ( especially to xxmaj richard xxmaj kimble ) , and still active as an actress and acting coach , just turned 67 . xxmaj parker found \" the best of everything \" with xxmaj bradford xxmaj dillman for 40 years before dying at age 70 the same year xxmaj lange did . xxmaj but here they are , young , beautiful and ambitious for success and love , just like their characters .,xxbos 2001 : a xxmaj space xxmaj odyssey \n",
       " \n",
       "  xxmaj is it a sermon ? xxmaj an account of the history of mankind ? xxmaj an exploration of man 's futile attempts to advance technology only to have technology destroy him ? xxmaj is it about the fragile balance of time and space ? a lesson in evolution ? xxmaj or is it just a spectacular effects show ; a film xxmaj kubrick made only to show us the limitless possibilities of the motion picture and present to us the truth that images are exceedingly more powerful than words ? \n",
       " \n",
       "  2001 : a xxmaj space xxmaj odyssey is all of these things . xxmaj one of the most xxunk films ever created , it 's almost more fun to dissect and discuss the ambiguous plot design and events of the film , than it is to actually watch . xxmaj but it 's left open to discussion intentionally ; if xxmaj kubrick had explained the meaning to his wondrous 1968 classic ( ranked # 22 on xxup afi 's list of the greatest 100 films ever made , my personal 21st favorite xxunk , and nominated for 4 xxmaj academy xxmaj awards : xxmaj director , xxmaj original xxmaj screenplay , xxmaj art xxmaj direction , and xxmaj visual xxmaj effects which it won for ) it would have lost half its fascination , all of its complexity , and a good portion of its cinematic worth . xxmaj we would only be left with the technical ingenuity ; which in itself is worth praising . \n",
       " \n",
       "  xxmaj because every shot is worth taking the time to look . xxmaj and there is plenty of time . 2001 is very elegiac , and also coolly distant ; detached . xxmaj the emotional remoteness and slow pace pay perfect tribute however to the unique visual experience ; 2001 begins with mankind 's ape ancestors , who upgrade from scavengers of the planet to hunters and xxunk after discovering a giant monolith in the midst of their desert home , then ( in one of motion picture history 's most inspired jump - cut edits ) as a bone is tossed into the air and becomes a satellite , jumping forward a couple thousand years into space , where astronauts have discovered a similar object on the moon , and next the film following a crew of space traveler 's mission as they follow the monolith 's signal through space , accompanied by their untrustworthy computer xxup hal , who attempts to sabotage the shuttle and kill the crew , before finally the lone survivor is launched through space and time ( in a flurry of drug - induced colors that probably gave hippies an epileptic shock back in the day ) to grow old , die , and be reborn a \" xxmaj star - child \" . xxmaj whew . \n",
       " \n",
       "  xxmaj this pacing and emotional blankness , is also in sharp contrast with the film 's most ironic scene ; the destruction of xxup hal . xxmaj as the crew 's final explorer shuts the machine down , bathed in the holy aura of red light xxmaj kubrick has always used as a repeat motif , xxup hal singing a lovely tune , it is a strangely emotional experience . xxmaj and it 's all genius . \n",
       " \n",
       "  xxmaj other notable aspects of xxmaj kubrick 's masterpiece is the memorable voice of xxup hal ( a calm , somehow sinister , xxmaj douglas xxmaj rain ) , the minimal use of dialogue ( xxmaj kubrick was wisely trusting of his images to propel the film ; giving only banal , unhelpful lines to his actors . xxmaj the most famous being \" xxmaj open the pod bay doors xxup hal \" ) , satellites dancing around in orbit to unorthodox music , and that first , awe - inspiring shot of earth ; slowly revealing the glare of the sun in front of it , played to the sound of blasting , triumphant horns . \n",
       " \n",
       "  2001 shall always remain a mystery , and will forever be a testament to the cinema 's strongest point : visuals are more powerful than writing . xxmaj it 's all from one of film history 's most legendary and best directors , whose unique vision , was always his own . 10 / 10 \n",
       " \n",
       "  \" xxmaj open the pod bay doors xxup xxunk : a xxmaj space xxmaj odyssey,xxbos xxmaj working in a music store , my xxunk first tipped me this soundtrack . xxmaj the music of this movie is perfect . xxmaj one of my favorite xxup cd 's . xxmaj only years later i saw the movie , i was afraid it would not fulfill my high expectations , luckily it did . a feel good romantic love story .,xxbos i found this movie to be quite enjoyable and fairly entertaining . xxmaj good characters , good actors and enough suspense to keep your interest throughout . xxmaj the plot twists might have been a bit much but overall a decent thriller . xxmaj if you liked this film i would recommend xxmaj the xxmaj spanish xxmaj prisoner , xxmaj the xxmaj house of xxmaj games and xxmaj no xxmaj way xxmaj out .,xxbos xxmaj the basic plot of this film has already been detailed in several other comments so i wo n't bother . i 'd like to first commend the producer , cast , directors and crew for creating a wonderfully engaging film on a meager , $ 1 m budget , a small fraction of standard xxmaj hollywood fare that does n't xxup look cheap . xxmaj these people have a drive to make something new and entertaining while not spending a fortune doing it . xxmaj this is essentially art for art 's sake . i know , i know , some of you will decide that this is not art but something less and that 's fine . i for one am glad that people like these will continue to put forth the time and effort for our benefit without expecting huge multimillion dollar payoffs . \n",
       " \n",
       "  xxmaj now to the criticism . i feel that the scenario presented is credible to a point . xxmaj it 's wonderful when everything works out and the hero / heroine saves the day and all 's well that ends well . xxmaj what gets me is the blatant manipulation of events so that blind luck is responsible more than courage and strength . \n",
       " \n",
       "  xxmaj when lee was attacked but not severely injured , somehow she washed up on a mud bank right next to the dead guide . xxmaj then , miraculously , his loaded revolver is still in his holster and it actually works ( after some cleaning and fiddling ) . xxmaj finally , when xxmaj lee is attacked on the mud bank and jumps in the water , once again the croc fails to kill her . xxmaj she ends up with her hand in his ( her ? ) mouth and manages to repeatedly pull the trigger , ultimately to blow the croc 's brains out ( literally ) . \n",
       " \n",
       "  i came to the conclusion that having xxmaj lee go hand to mouth with the croc was just a way to end the film with the human in triumph . xxmaj based upon what i have seen , the croc 's attack and continue to hold on until the prey stops struggling . xxmaj croc 's will spin around and around to dismember and drown the prey . xxmaj that happened to the first 3 victims but not to xxmaj lee . xxmaj she had teeth marks but they were not deep . \n",
       " \n",
       "  i think that the ending would have been better had the croc won , frankly , thereby proving his dominance of the mangrove , his territory for millions of years . xxmaj but then , how many of us would have been upset or disappointed that the pretty girl did n't get out alive ?\n",
       "y: LMLabelList\n",
       ",,,,\n",
       "Path: /storage/imdb;\n",
       "\n",
       "Valid: LabelList (10000 items)\n",
       "x: LMTextList\n",
       "xxbos xxmaj this is a very silly film . xxmaj all the female characters never walk or run or stand , they mince , xxunk and languish . xxmaj the lesbian vampires of the title are easily the most ineffectual vampires ever to grace the silver screen . xxmaj this whole movie is just too xxmaj european for me . xxmaj and , while the lesbian vampires might have a taste for blood , there sure is very little of it in this film . xxmaj all the above said , i did enjoy this film , because it is so easy to laugh about . xxmaj about the only thing thing this so called erotic horror film is good for is a laugh .,xxbos xxmaj alien xxmaj thunder ( whoever came up with that title should have been pistol whipped ) is just plain dull ! \n",
       " \n",
       "  xxmaj donald xxmaj sutherland ( in a wooden , unlikable performance ) plays xxmaj dan xxmaj candy , a member of xxmaj the xxmaj royal xxmaj canadian xxmaj mounted xxmaj police who arrests an xxmaj indian for slaughtering a government alloted cow without prior approval . xxmaj the xxmaj indian escapes and kills his partner . \n",
       " \n",
       "  xxmaj most of this excruciating movie consists of xxmaj sutherland walking into the woods , coming back empty - handed , and arguing with his superior officer . \n",
       " \n",
       "  xxmaj there 's no suspense and what little action there is ( before the climax ) consists mostly of pot shots taken by and against xxmaj indians on his various trips to the reservation . \n",
       " \n",
       "  xxmaj considering the talent involved , ( xxmaj sutherland , xxmaj kevin mccarthy , xxmaj chief xxmaj dan xxmaj george ) this should have been good . i suggest you watch xxmaj xxunk instead .,xxbos a group of human looking aliens going to xxmaj earth to eat crash land on a planet of prehistoric beasts instead where they all eat xxunk mushrooms and act retarded . xxmaj padded with footage from \" xxmaj planet of the xxmaj xxunk \" and horrible jokes this is definitely one to miss . xxmaj the acting is atrocious as well , and while this is n't as bad as \" xxmaj xxunk \" ( what movie can be ? ) xxmaj this is still pretty awful repugnant stuff . xxmaj it 's 90 minute running time feels like an eternity and you will likely be cursing life so do yourself a huge favor and just move on , skip this crappy film , there 's nothing to see here . \n",
       " \n",
       "  xxmaj the film - makers try to resell this turd as a xxup mst3 k style making fun of the movie they made a decade before , and it works to an extent it 's still nothing that watchable though , xxmaj ariauna xxmaj albright is hot , but xxmaj lilith xxmaj stabs has a pretty unattractive speaking voice . \n",
       " \n",
       "  xxmaj my xxmaj grade : xxup d- \n",
       " \n",
       "  xxup dvd xxmaj extras : xxmaj joke commentary , 17 xxmaj behind the scenes featurette ; 7 minute xxmaj into the black featurette ; xxmaj jessica xxmaj mills reporting ; xxmaj stills gallery ; and original trailer,xxbos xxmaj sometimes you have to take things to a point to make a point . xxmaj michael xxmaj moore has many times been accused of lying or being naive and not showing the whole picture but the truth is that if you are documenting the type of phenomenons that he is you have to take things to the very edge to be able to show your point of view . xxmaj even further , you ca n't tangle yourself in semantics and rhetorical endless discussion if you want the regular ordinary man on the street to get interested . xxmaj this is xxmaj moores dilemma . xxmaj he 's trying to make very complex matters simple and it 's not an easy task . \n",
       " \n",
       "  xxmaj now , i 'm the first to agree on that he 's not always accurate and sometimes not even right , but he finishes his mission which is ; xxmaj to make people think ! xxmaj and this is far more important sometimes than being 100 % true . \n",
       " \n",
       "  xxmaj he even got xxmaj mr xxmaj wilson to make a movie about him . xxmaj and that 's why we are here . \n",
       " \n",
       "  xxmaj wilson is trying to use xxmaj moores own rhetoric back on him . xxmaj he is even got a attorney / author ( sic ! ) to claim that xxmaj moore has some personality disorder . xxmaj he uses the same techniques as him and gets the man on the street to air his opinions and as a coincidence , they are the same as xxmaj wilson 's . xxmaj to boil it all down , he is trying to make a xxmaj fahrenheit 9 / 11 about xxmaj fahrenheit 9 / 11 . \n",
       " \n",
       "  xxmaj now , of course you should challenge xxmaj moore 's ideas . xxmaj of course you should make up your own mind and try to find the facts yourself . xxmaj that 's the whole point of democracy . xxmaj but where xxmaj moore is brilliant with expressing his points and political viewpoint , xxmaj wilson is far too blunt . xxmaj it even gets to the point where you get the feeling that xxmaj wilson is not even challenging xxmaj moore but is in it for his own personal witch hunt out of some personal dislike . xxmaj which is exactly what he 's accusing xxmaj moore for doing to xxmaj mr xxup c. xxmaj heston and xxup xxunk xxmaj bush . xxmaj and this , of course , is not good since as a fact he then becomes xxmaj moore . \n",
       " \n",
       "  xxmaj at a point i could almost see him crying off camera because xxmaj moore does n't return his calls . xxmaj and , come on xxmaj wilson , why did you try to make a point about if he cursed or not ? a big difference between xxmaj moore and xxmaj wilson is also this ; xxmaj where xxmaj moore gets people to speak their mind , xxmaj wilson will get to use the interviews as long as \" they do n't look bad \" . xxmaj do n't look bad ? xxmaj that 's the whole point of investigating journalism , if it looks bad it probably is and you should bring it out in the open . xxmaj not the corporate approved statements and views . \n",
       " \n",
       "  xxmaj further more , the sections with xxmaj penn ( yes , xxmaj penn from xxunk ) screams \" xxmaj you should only show what is government approved \" . i ca n't help to recall what the late xxmaj bill xxmaj hicks said : \" xxmaj you are free to do what we tell you ! xxmaj here 's 16 channels of xxmaj american xxmaj gladiators to choose from \" . \n",
       " \n",
       "  xxmaj now , it might be that we in xxmaj europe are more used to harsh journalists that dissect everything , but i get a feeling that xxmaj wilson does not fully understand how and why you do an investigating documentary . xxmaj if peoples toes are going to be stepped on ? xxmaj sure . xxmaj if people are going to get mad because things are shown that was n't supposed to be ? xxmaj of course . xxmaj if this is wrong ? xxmaj not a bit . \n",
       " \n",
       "  a cause , belief or movement that ca n't stand to be investigated or made fun of , is not meant to survive . xxmaj it 's as simple as that . \n",
       " \n",
       "  i could go on and on and point out the errors i think xxmaj wilson is doing this film . xxmaj the truth is that xxmaj wilson should have practiced a bit more first before taking on a challenge as this . xxmaj he is accusing xxmaj moore of editing his movies and then he does the same thing himself . xxmaj he makes a point of xxmaj moore using comments and interviews out of context and then , yes you guessed right , he does it himself . xxmaj he twists and turns from challenging xxmaj moores movies to challenging xxmaj moore himself . xxmaj it all turns into a amateurish soup where you have no real thread to follow . i even felt , after the shop door incident , that he was trying to do a \" xxmaj cops \" episode . \n",
       " \n",
       "  xxmaj no , xxmaj wilson , this is not good . xxmaj you should have practiced by making some xxmaj youtube movies first to get warm in the clothes before going for the trophy ; xxmaj michael xxmaj moore .,xxbos xxmaj this is one of my favourite films of all time . xxmaj it has such a feel good factor that i get it out and watch it at least three times a year and have done since i was kid , surfing with my friends in xxmaj cornwall in the early eighties . xxmaj following the lives of three friends from 1962 to the \" great swell \" of 1974 , this is a beautifully shot movie with warm characters that you grow to really care about . xxmaj from the opening credits with , believe it or not , the wonderfully mellow voice - over provided by xxmaj robert xxmaj england , to the final mega surfing scene the story pulls you in with it 's glorious scenery , great acting and superbly shot surfing scenes . xxmaj based around xxmaj milius 's own experiences this is a classic and in my opinion , the best surfing film ever made .\n",
       "y: LMLabelList\n",
       ",,,,\n",
       "Path: /storage/imdb;\n",
       "\n",
       "Test: None, model=SequentialRNN(\n",
       "  (0): AWD_LSTM(\n",
       "    (encoder): Embedding(60000, 400, padding_idx=1)\n",
       "    (encoder_dp): EmbeddingDropout(\n",
       "      (emb): Embedding(60000, 400, padding_idx=1)\n",
       "    )\n",
       "    (rnns): ModuleList(\n",
       "      (0): WeightDropout(\n",
       "        (module): LSTM(400, 1152, batch_first=True)\n",
       "      )\n",
       "      (1): WeightDropout(\n",
       "        (module): LSTM(1152, 1152, batch_first=True)\n",
       "      )\n",
       "      (2): WeightDropout(\n",
       "        (module): LSTM(1152, 400, batch_first=True)\n",
       "      )\n",
       "    )\n",
       "    (input_dp): RNNDropout()\n",
       "    (hidden_dps): ModuleList(\n",
       "      (0): RNNDropout()\n",
       "      (1): RNNDropout()\n",
       "      (2): RNNDropout()\n",
       "    )\n",
       "  )\n",
       "  (1): LinearDecoder(\n",
       "    (decoder): Linear(in_features=400, out_features=60000, bias=True)\n",
       "    (output_dp): RNNDropout()\n",
       "  )\n",
       "), opt_func=functools.partial(<class 'torch.optim.adam.Adam'>, betas=(0.9, 0.99)), loss_func=FlattenedLoss of CrossEntropyLoss(), metrics=[<function accuracy at 0x7f3e62b39400>], true_wd=True, bn_wd=True, wd=0.01, train_bn=True, path=PosixPath('/storage/imdb'), model_dir='models', callback_fns=[functools.partial(<class 'fastai.basic_train.Recorder'>, add_time=True, silent=False)], callbacks=[...], layer_groups=[Sequential(\n",
       "  (0): WeightDropout(\n",
       "    (module): LSTM(400, 1152, batch_first=True)\n",
       "  )\n",
       "  (1): RNNDropout()\n",
       "), Sequential(\n",
       "  (0): WeightDropout(\n",
       "    (module): LSTM(1152, 1152, batch_first=True)\n",
       "  )\n",
       "  (1): RNNDropout()\n",
       "), Sequential(\n",
       "  (0): WeightDropout(\n",
       "    (module): LSTM(1152, 400, batch_first=True)\n",
       "  )\n",
       "  (1): RNNDropout()\n",
       "), Sequential(\n",
       "  (0): Embedding(60000, 400, padding_idx=1)\n",
       "  (1): EmbeddingDropout(\n",
       "    (emb): Embedding(60000, 400, padding_idx=1)\n",
       "  )\n",
       "  (2): LinearDecoder(\n",
       "    (decoder): Linear(in_features=400, out_features=60000, bias=True)\n",
       "    (output_dp): RNNDropout()\n",
       "  )\n",
       ")], add_time=True, silent=False)\n",
       "alpha: 2.0\n",
       "beta: 1.0], layer_groups=[Sequential(\n",
       "  (0): WeightDropout(\n",
       "    (module): LSTM(400, 1152, batch_first=True)\n",
       "  )\n",
       "  (1): RNNDropout()\n",
       "), Sequential(\n",
       "  (0): WeightDropout(\n",
       "    (module): LSTM(1152, 1152, batch_first=True)\n",
       "  )\n",
       "  (1): RNNDropout()\n",
       "), Sequential(\n",
       "  (0): WeightDropout(\n",
       "    (module): LSTM(1152, 400, batch_first=True)\n",
       "  )\n",
       "  (1): RNNDropout()\n",
       "), Sequential(\n",
       "  (0): Embedding(60000, 400, padding_idx=1)\n",
       "  (1): EmbeddingDropout(\n",
       "    (emb): Embedding(60000, 400, padding_idx=1)\n",
       "  )\n",
       "  (2): LinearDecoder(\n",
       "    (decoder): Linear(in_features=400, out_features=60000, bias=True)\n",
       "    (output_dp): RNNDropout()\n",
       "  )\n",
       ")], add_time=True, silent=False)"
      ]
     },
     "execution_count": 57,
     "metadata": {},
     "output_type": "execute_result"
    }
   ],
   "source": [
    "learner = text_classifier_learner(data_clas, AWD_LSTM, drop_mult=0.5)\n",
    "learn.load_encoder(\"fine_tuned_enc\")"
   ]
  },
  {
   "cell_type": "code",
   "execution_count": 58,
   "metadata": {},
   "outputs": [
    {
     "data": {
      "text/html": [
       "\n",
       "    <div>\n",
       "        <style>\n",
       "            /* Turns off some styling */\n",
       "            progress {\n",
       "                /* gets rid of default border in Firefox and Opera. */\n",
       "                border: none;\n",
       "                /* Needs to be in here for Safari polyfill so background images work as expected. */\n",
       "                background-size: auto;\n",
       "            }\n",
       "            .progress-bar-interrupted, .progress-bar-interrupted::-webkit-progress-bar {\n",
       "                background: #F44336;\n",
       "            }\n",
       "        </style>\n",
       "      <progress value='0' class='' max='1', style='width:300px; height:20px; vertical-align: middle;'></progress>\n",
       "      0.00% [0/1 00:00<00:00]\n",
       "    </div>\n",
       "    \n",
       "<table border=\"1\" class=\"dataframe\">\n",
       "  <thead>\n",
       "    <tr style=\"text-align: left;\">\n",
       "      <th>epoch</th>\n",
       "      <th>train_loss</th>\n",
       "      <th>valid_loss</th>\n",
       "      <th>accuracy</th>\n",
       "      <th>time</th>\n",
       "    </tr>\n",
       "  </thead>\n",
       "  <tbody>\n",
       "  </tbody>\n",
       "</table><p>\n",
       "\n",
       "    <div>\n",
       "        <style>\n",
       "            /* Turns off some styling */\n",
       "            progress {\n",
       "                /* gets rid of default border in Firefox and Opera. */\n",
       "                border: none;\n",
       "                /* Needs to be in here for Safari polyfill so background images work as expected. */\n",
       "                background-size: auto;\n",
       "            }\n",
       "            .progress-bar-interrupted, .progress-bar-interrupted::-webkit-progress-bar {\n",
       "                background: #F44336;\n",
       "            }\n",
       "        </style>\n",
       "      <progress value='99' class='' max='8044', style='width:300px; height:20px; vertical-align: middle;'></progress>\n",
       "      1.23% [99/8044 00:25<33:39 10.9792]\n",
       "    </div>\n",
       "    "
      ],
      "text/plain": [
       "<IPython.core.display.HTML object>"
      ]
     },
     "metadata": {},
     "output_type": "display_data"
    },
    {
     "name": "stdout",
     "output_type": "stream",
     "text": [
      "LR Finder is complete, type {learner_name}.recorder.plot() to see the graph.\n"
     ]
    }
   ],
   "source": [
    "learn.lr_find()"
   ]
  },
  {
   "cell_type": "code",
   "execution_count": 60,
   "metadata": {},
   "outputs": [
    {
     "data": {
      "image/png": "[encoded data removed]",
      "text/plain": [
       "<Figure size 432x288 with 1 Axes>"
      ]
     },
     "metadata": {
      "needs_background": "light"
     },
     "output_type": "display_data"
    }
   ],
   "source": [
    "learn.recorder.plot(skip_end=15)"
   ]
  },
  {
   "cell_type": "code",
   "execution_count": 61,
   "metadata": {},
   "outputs": [
    {
     "data": {
      "text/html": [
       "<table border=\"1\" class=\"dataframe\">\n",
       "  <thead>\n",
       "    <tr style=\"text-align: left;\">\n",
       "      <th>epoch</th>\n",
       "      <th>train_loss</th>\n",
       "      <th>valid_loss</th>\n",
       "      <th>accuracy</th>\n",
       "      <th>time</th>\n",
       "    </tr>\n",
       "  </thead>\n",
       "  <tbody>\n",
       "    <tr>\n",
       "      <td>0</td>\n",
       "      <td>4.116868</td>\n",
       "      <td>4.004704</td>\n",
       "      <td>0.328571</td>\n",
       "      <td>35:07</td>\n",
       "    </tr>\n",
       "  </tbody>\n",
       "</table>"
      ],
      "text/plain": [
       "<IPython.core.display.HTML object>"
      ]
     },
     "metadata": {},
     "output_type": "display_data"
    }
   ],
   "source": [
    "learn.fit_one_cycle(1, 2e-2, moms=(0.8, 0.7))"
   ]
  },
  {
   "cell_type": "code",
   "execution_count": null,
   "metadata": {},
   "outputs": [],
   "source": []
  }
 ],
 "metadata": {
  "kernelspec": {
   "display_name": "Python 3",
   "language": "python",
   "name": "python3"
  },
  "language_info": {
   "codemirror_mode": {
    "name": "ipython",
    "version": 3
   },
   "file_extension": ".py",
   "mimetype": "text/x-python",
   "name": "python",
   "nbconvert_exporter": "python",
   "pygments_lexer": "ipython3",
   "version": "3.6.7"
  }
 },
 "nbformat": 4,
 "nbformat_minor": 2
}
